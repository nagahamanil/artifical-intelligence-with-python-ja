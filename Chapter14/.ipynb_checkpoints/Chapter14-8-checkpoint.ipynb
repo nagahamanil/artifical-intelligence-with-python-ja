{
 "cells": [
  {
   "cell_type": "code",
   "execution_count": 1,
   "metadata": {},
   "outputs": [],
   "source": [
    "# p.350 14.8 OCRエンジン\n",
    "import numpy as np\n",
    "import neurolab as nl\n",
    "\n",
    "input_file = 'letter.data'\n",
    "\n",
    "num_datapoints = 50\n",
    "num_train = int(0.9 * num_datapoints)\n",
    "num_test = num_datapoints - num_train"
   ]
  },
  {
   "cell_type": "code",
   "execution_count": 2,
   "metadata": {},
   "outputs": [],
   "source": [
    "orig_labels = 'omandig'\n",
    "num_orig_labels = len(orig_labels)"
   ]
  },
  {
   "cell_type": "code",
   "execution_count": 3,
   "metadata": {},
   "outputs": [],
   "source": [
    "data = []\n",
    "labels = []\n",
    "\n",
    "with open(input_file, 'r') as f:\n",
    "    for line in f.readlines():\n",
    "        list_vals = line.split('\\t')\n",
    "        \n",
    "        if list_vals[1] not in orig_labels:\n",
    "            continue\n",
    "            \n",
    "        label = np.zeros((num_orig_labels, 1))\n",
    "        label[orig_labels.index(list_vals[1])] = 1\n",
    "        labels.append(label)\n",
    "        \n",
    "        cur_char = np.array([float(x) for x in list_vals[6:-1]])\n",
    "        data.append(cur_char)\n",
    "        \n",
    "        if len(data) >= num_datapoints:\n",
    "            break"
   ]
  },
  {
   "cell_type": "code",
   "execution_count": 4,
   "metadata": {},
   "outputs": [],
   "source": [
    "labels = np.array(labels).reshape(-1, num_orig_labels)\n",
    "num_dims = 8 * 16\n",
    "data = np.array(data).reshape(-1, num_dims)"
   ]
  },
  {
   "cell_type": "code",
   "execution_count": 5,
   "metadata": {},
   "outputs": [
    {
     "name": "stdout",
     "output_type": "stream",
     "text": [
      "Epoch: 100; Error: 71.63645521731155;\n",
      "Epoch: 200; Error: 30.62377832917609;\n",
      "Epoch: 300; Error: 29.588130113154932;\n",
      "Epoch: 400; Error: 25.51397328959971;\n",
      "Epoch: 500; Error: 25.069556959223604;\n",
      "Epoch: 600; Error: 25.007196507934623;\n",
      "Epoch: 700; Error: 25.183485916894444;\n",
      "Epoch: 800; Error: 24.99175623483025;\n",
      "Epoch: 900; Error: 24.189452228759123;\n",
      "Epoch: 1000; Error: 13.382677457782393;\n",
      "Epoch: 1100; Error: 12.9611014912584;\n",
      "Epoch: 1200; Error: 15.13935753785701;\n",
      "Epoch: 1300; Error: 14.259715044720327;\n",
      "Epoch: 1400; Error: 13.935028001847545;\n",
      "Epoch: 1500; Error: 13.713306856805852;\n",
      "Epoch: 1600; Error: 13.460463061682784;\n",
      "Epoch: 1700; Error: 13.04357255197997;\n",
      "Epoch: 1800; Error: 12.425779649111748;\n",
      "Epoch: 1900; Error: 11.676822513691597;\n",
      "Epoch: 2000; Error: 1.8639873932561204;\n",
      "Epoch: 2100; Error: 1.7755162242639828;\n",
      "Epoch: 2200; Error: 1.5899860015648954;\n",
      "Epoch: 2300; Error: 1.4985589747550283;\n",
      "Epoch: 2400; Error: 1.4346410906356537;\n",
      "Epoch: 2500; Error: 1.3836316918126557;\n",
      "Epoch: 2600; Error: 1.3407105637570766;\n",
      "Epoch: 2700; Error: 1.3037748121587116;\n",
      "Epoch: 2800; Error: 1.2716426276410884;\n",
      "Epoch: 2900; Error: 1.2435109194104539;\n",
      "Epoch: 3000; Error: 1.218774679053873;\n",
      "Epoch: 3100; Error: 1.1969574386632096;\n",
      "Epoch: 3200; Error: 1.1776763909320138;\n",
      "Epoch: 3300; Error: 1.1606183743665741;\n",
      "Epoch: 3400; Error: 1.1455196256807634;\n",
      "Epoch: 3500; Error: 1.1321481507801685;\n",
      "Epoch: 3600; Error: 1.1202901857903838;\n",
      "Epoch: 3700; Error: 1.1097429305932358;\n",
      "Epoch: 3800; Error: 1.1003143427534166;\n",
      "Epoch: 3900; Error: 1.0918279971268716;\n",
      "Epoch: 4000; Error: 1.0841290151120966;\n",
      "Epoch: 4100; Error: 1.077087526135743;\n",
      "Epoch: 4200; Error: 1.070598414452987;\n",
      "Epoch: 4300; Error: 1.0645782321170998;\n",
      "Epoch: 4400; Error: 1.0589609352496365;\n",
      "Epoch: 4500; Error: 1.053693758630625;\n",
      "Epoch: 4600; Error: 1.0487338558734407;\n",
      "Epoch: 4700; Error: 1.044045808005013;\n",
      "Epoch: 4800; Error: 1.0395998556829227;\n",
      "Epoch: 4900; Error: 1.035370655460865;\n",
      "Epoch: 5000; Error: 1.0313363909668616;\n",
      "Epoch: 5100; Error: 1.0274781192224478;\n",
      "Epoch: 5200; Error: 1.0237792740084248;\n",
      "Epoch: 5300; Error: 1.0202252769804008;\n",
      "Epoch: 5400; Error: 1.016803225500567;\n",
      "Epoch: 5500; Error: 1.0135016373444024;\n",
      "Epoch: 5600; Error: 1.010310239235936;\n",
      "Epoch: 5700; Error: 1.0072197903030595;\n",
      "Epoch: 5800; Error: 1.004221934094583;\n",
      "Epoch: 5900; Error: 1.0013090744130524;\n",
      "Epoch: 6000; Error: 0.9984742712783125;\n",
      "Epoch: 6100; Error: 0.9957111540749417;\n",
      "Epoch: 6200; Error: 0.9930138494804016;\n",
      "Epoch: 6300; Error: 0.9903769221926043;\n",
      "Epoch: 6400; Error: 0.9877953268125736;\n",
      "Epoch: 6500; Error: 0.9852643695103324;\n",
      "Epoch: 6600; Error: 0.9827796783178668;\n",
      "Epoch: 6700; Error: 0.980337181054385;\n",
      "Epoch: 6800; Error: 0.9779330899935994;\n",
      "Epoch: 6900; Error: 0.9755638924253167;\n",
      "Epoch: 7000; Error: 0.9732263462385495;\n",
      "Epoch: 7100; Error: 0.9709174795565023;\n",
      "Epoch: 7200; Error: 0.9686345932883507;\n",
      "Epoch: 7300; Error: 0.9663752652438415;\n",
      "Epoch: 7400; Error: 0.9641373542200055;\n",
      "Epoch: 7500; Error: 0.9619190022753289;\n",
      "Epoch: 7600; Error: 0.9597186333450978;\n",
      "Epoch: 7700; Error: 0.9575349465316803;\n",
      "Epoch: 7800; Error: 0.9553669029350994;\n",
      "Epoch: 7900; Error: 0.9532137058425165;\n",
      "Epoch: 8000; Error: 0.9510747754527693;\n",
      "Epoch: 8100; Error: 0.9489497209200038;\n",
      "Epoch: 8200; Error: 0.9468383140505023;\n",
      "Epoch: 8300; Error: 0.9447404700578119;\n",
      "Epoch: 8400; Error: 0.9426562409421189;\n",
      "Epoch: 8500; Error: 0.9405858260258005;\n",
      "Epoch: 8600; Error: 0.9385296019373705;\n",
      "Epoch: 8700; Error: 0.9364881711959083;\n",
      "Epoch: 8800; Error: 0.9344624250311604;\n",
      "Epoch: 8900; Error: 0.9324536127400054;\n",
      "Epoch: 9000; Error: 0.9304634071581563;\n",
      "Epoch: 9100; Error: 0.9284939539924122;\n",
      "Epoch: 9200; Error: 0.92654789206978;\n",
      "Epoch: 9300; Error: 0.9246283324510935;\n",
      "Epoch: 9400; Error: 0.922738787498059;\n",
      "Epoch: 9500; Error: 0.9208830470160245;\n",
      "Epoch: 9600; Error: 0.9190650075201423;\n",
      "Epoch: 9700; Error: 0.9172884711256495;\n",
      "Epoch: 9800; Error: 0.9155569395165273;\n",
      "Epoch: 9900; Error: 0.9138734319539528;\n",
      "Epoch: 10000; Error: 0.9122403514528168;\n",
      "The maximum number of train epochs is reached\n"
     ]
    }
   ],
   "source": [
    "nn = nl.net.newff([[0, 1]] * num_dims, [128, 16, num_orig_labels])\n",
    "nn.trainf = nl.train.train_gd\n",
    "\n",
    "error_progress = nn.train(data[:num_train, :], labels[:num_train, :],\n",
    "                         epochs=10000, show=100, goal=0.01)"
   ]
  },
  {
   "cell_type": "code",
   "execution_count": 6,
   "metadata": {},
   "outputs": [
    {
     "name": "stdout",
     "output_type": "stream",
     "text": [
      "Testin on unknown data:\n",
      "\n",
      "Original: o\n",
      "Predicted: o\n",
      "\n",
      "Original: m\n",
      "Predicted: n\n",
      "\n",
      "Original: m\n",
      "Predicted: n\n",
      "\n",
      "Original: a\n",
      "Predicted: d\n",
      "\n",
      "Original: n\n",
      "Predicted: n\n"
     ]
    }
   ],
   "source": [
    "print('Testin on unknown data:')\n",
    "predicted = nn.sim(data[num_train:, :])\n",
    "for i in range(num_test):\n",
    "    print('\\nOriginal:', orig_labels[np.argmax(labels[num_train+i])])\n",
    "    print('Predicted:', orig_labels[np.argmax(predicted[i])])"
   ]
  }
 ],
 "metadata": {
  "kernelspec": {
   "display_name": "Python 3",
   "language": "python",
   "name": "python3"
  },
  "language_info": {
   "codemirror_mode": {
    "name": "ipython",
    "version": 3
   },
   "file_extension": ".py",
   "mimetype": "text/x-python",
   "name": "python",
   "nbconvert_exporter": "python",
   "pygments_lexer": "ipython3",
   "version": "3.6.8"
  }
 },
 "nbformat": 4,
 "nbformat_minor": 2
}
