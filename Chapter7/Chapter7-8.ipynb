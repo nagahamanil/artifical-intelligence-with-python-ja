{
 "cells": [
  {
   "cell_type": "code",
   "execution_count": 1,
   "metadata": {},
   "outputs": [],
   "source": [
    "# p.170 7.8 迷路の解法\n",
    "import math\n",
    "from simpleai.search import SearchProblem, astar"
   ]
  },
  {
   "cell_type": "code",
   "execution_count": 2,
   "metadata": {},
   "outputs": [],
   "source": [
    "class MazeSolver(SearchProblem):\n",
    "    def __init__(self, board):\n",
    "        self.board = board\n",
    "        self.goal = (0, 0)\n",
    "        \n",
    "        for y in range(len(self.board)):\n",
    "            for x in range(len(self.board[y])):\n",
    "                if self.board[y][x].lower() == \"o\":\n",
    "                    self.initial = (x, y)\n",
    "                elif self.board[y][x].lower() == \"x\":\n",
    "                    self.goal = (x, y)\n",
    "                    \n",
    "        super(MazeSolver, self).__init__(initial_state=self.initial)\n",
    "        \n",
    "    def actions(self, state):\n",
    "        actions = []\n",
    "        for action in COSTS.keys():\n",
    "            newx, newy = self.result(state, action)\n",
    "            if self.board[newy][newx] != \"#\":\n",
    "                actions.append(action)\n",
    "                \n",
    "        return actions\n",
    "    \n",
    "    def result(self, state, action):\n",
    "        x, y = state\n",
    "        \n",
    "        if action.count(\"up\"):\n",
    "            y -= 1\n",
    "        if action.count(\"down\"):\n",
    "            y += 1\n",
    "        if action.count(\"left\"):\n",
    "            x -= 1\n",
    "        if action.count(\"right\"):\n",
    "            x += 1\n",
    "        \n",
    "        new_state = (x, y)\n",
    "        return new_state\n",
    "    \n",
    "    def is_goal(self, state):\n",
    "        return state == self.goal\n",
    "    \n",
    "    def cost(self, state, action, state2):\n",
    "        return COSTS[action]\n",
    "    \n",
    "    def heuristic(self, state):\n",
    "        x, y = state\n",
    "        gx, gy = self.goal\n",
    "        \n",
    "        return math.sqrt((x - gx) ** 2 + (y - gy) ** 2)"
   ]
  },
  {
   "cell_type": "code",
   "execution_count": 3,
   "metadata": {},
   "outputs": [
    {
     "name": "stdout",
     "output_type": "stream",
     "text": [
      "\n",
      "##############################\n",
      "#            #           #   #\n",
      "# ####   #   # #######   #   #\n",
      "#  o #  ##   #   #       #   #\n",
      "#    ###       ####  #####   #\n",
      "#      #    ####x #          #\n",
      "#      #   #   #  #######  ###\n",
      "#   ########   #    #        #\n",
      "#           #####       #    #\n",
      "##############################\n",
      "\n"
     ]
    }
   ],
   "source": [
    "MAP = \"\"\"\n",
    "##############################\n",
    "#            #           #   #\n",
    "# ####   #   # #######   #   #\n",
    "#  o #  ##   #   #       #   #\n",
    "#    ###       ####  #####   #\n",
    "#      #    ####x #          #\n",
    "#      #   #   #  #######  ###\n",
    "#   ########   #    #        #\n",
    "#           #####       #    #\n",
    "##############################\n",
    "\"\"\"\n",
    "\n",
    "\n",
    "print(MAP)\n",
    "\n",
    "# 文字列からリストへ変換する\n",
    "MAP = [list(x) for x in MAP.split(\"\\n\") if x]"
   ]
  },
  {
   "cell_type": "code",
   "execution_count": 4,
   "metadata": {},
   "outputs": [],
   "source": [
    "cost_regular = 1.0 # 上下左右\n",
    "cost_diagonal = 1.7 # 斜め\n",
    "\n",
    "COSTS = {\n",
    "    \"up\": cost_regular,\n",
    "    \"down\": cost_regular,\n",
    "    \"left\": cost_regular,\n",
    "    \"right\": cost_regular,\n",
    "    \"up left\": cost_diagonal,\n",
    "    \"up right\": cost_diagonal,\n",
    "    \"down left\": cost_diagonal,\n",
    "    \"down right\": cost_diagonal,\n",
    "}"
   ]
  },
  {
   "cell_type": "code",
   "execution_count": 5,
   "metadata": {},
   "outputs": [
    {
     "name": "stdout",
     "output_type": "stream",
     "text": [
      "\n",
      "##############################\n",
      "# .........  # .......   #   #\n",
      "#.####   # . #.#######.  #   #\n",
      "# .o #  ##  .#.  #   .   #   #\n",
      "#    ###     . #### .#####   #\n",
      "#      #    ####. #  ....    #\n",
      "#      #   #   # .#######. ###\n",
      "#   ########   #  . #....    #\n",
      "#           #####  ..   #    #\n",
      "##############################\n"
     ]
    }
   ],
   "source": [
    "problem = MazeSolver(MAP)\n",
    "result = astar(problem, graph_search=True)\n",
    "\n",
    "# 経路を取得\n",
    "path = [x[1] for x in result.path()]\n",
    "\n",
    "# 結果を表示\n",
    "print()\n",
    "\n",
    "for y in range(len(MAP)):\n",
    "    for x in range(len(MAP[y])):\n",
    "        if (x, y) == problem.initial:\n",
    "            print('o', end='')\n",
    "        elif (x, y) == problem.initial:\n",
    "            print('x', end='')\n",
    "        elif (x, y) in path:\n",
    "            print('.', end='')\n",
    "        else:\n",
    "            print(MAP[y][x], end='')\n",
    "    print()"
   ]
  }
 ],
 "metadata": {
  "kernelspec": {
   "display_name": "Python 3",
   "language": "python",
   "name": "python3"
  },
  "language_info": {
   "codemirror_mode": {
    "name": "ipython",
    "version": 3
   },
   "file_extension": ".py",
   "mimetype": "text/x-python",
   "name": "python",
   "nbconvert_exporter": "python",
   "pygments_lexer": "ipython3",
   "version": "3.7.2"
  }
 },
 "nbformat": 4,
 "nbformat_minor": 2
}
