{
 "cells": [
  {
   "cell_type": "code",
   "execution_count": 1,
   "metadata": {},
   "outputs": [
    {
     "name": "stdout",
     "output_type": "stream",
     "text": [
      "{'Mark': ['red', 'green', 'blue', 'gray'], 'Julia': ['red', 'green', 'blue', 'gray'], 'Steve': ['red', 'green', 'blue', 'gray'], 'Amanda': ['red', 'green', 'blue', 'gray'], 'Brian': ['red', 'green', 'blue', 'gray'], 'Joanne': ['red', 'green', 'blue', 'gray'], 'Derek': ['red', 'green', 'blue', 'gray'], 'Allan': ['red', 'green', 'blue', 'gray'], 'Michelle': ['red', 'green', 'blue', 'gray'], 'Kelly': ['red', 'green', 'blue', 'gray'], 'Chris': ['red', 'green', 'blue', 'gray']}\n"
     ]
    }
   ],
   "source": [
    "from simpleai.search import CspProblem, backtrack\n",
    "\n",
    "names = ('Mark', 'Julia', 'Steve', 'Amanda', 'Brian',\n",
    "        'Joanne', 'Derek', 'Allan', 'Michelle', 'Kelly', 'Chris')\n",
    "\n",
    "colors = dict((name, ['red', 'green', 'blue', 'gray']) for name in names)\n",
    "print(colors)"
   ]
  },
  {
   "cell_type": "code",
   "execution_count": 2,
   "metadata": {},
   "outputs": [],
   "source": [
    "def constraint_func(names, values):\n",
    "    return values[0] != values[1]\n",
    "\n",
    "constraints = [\n",
    "    (('Mark', 'Julia'), constraint_func),\n",
    "    (('Mark', 'Steve'), constraint_func),\n",
    "    (('Julia', 'Steve'), constraint_func),\n",
    "    (('Julia', 'Amanda'), constraint_func),\n",
    "    (('Julia', 'Derek'), constraint_func),\n",
    "    (('Julia', 'Brian'), constraint_func),\n",
    "    (('Steve', 'Amanda'), constraint_func),\n",
    "    (('Steve', 'Allan'), constraint_func),\n",
    "    (('Steve', 'Michelle'), constraint_func),\n",
    "    (('Amanda', 'Michelle'), constraint_func),\n",
    "    (('Amanda', 'Joanne'), constraint_func),\n",
    "    (('Amanda', 'Derek'), constraint_func),\n",
    "    (('Brian', 'Derek'), constraint_func),\n",
    "    (('Brian', 'Kelly'), constraint_func),\n",
    "    (('Joanne', 'Michelle'), constraint_func),\n",
    "    (('Joanne', 'Derek'), constraint_func),\n",
    "    (('Joanne', 'Chris'), constraint_func),\n",
    "    (('Derek', 'Kelly'), constraint_func),\n",
    "    (('Derek', 'Chris'), constraint_func),\n",
    "    (('Kelly', 'Chris'), constraint_func),\n",
    "    (('Allan', 'Michelle'), constraint_func),\n",
    "]"
   ]
  },
  {
   "cell_type": "code",
   "execution_count": 3,
   "metadata": {},
   "outputs": [
    {
     "name": "stdout",
     "output_type": "stream",
     "text": [
      "Color mapping:\n",
      "\n",
      "Mark ==> red\n",
      "Julia ==> green\n",
      "Steve ==> blue\n",
      "Amanda ==> red\n",
      "Brian ==> red\n",
      "Joanne ==> green\n",
      "Derek ==> blue\n",
      "Allan ==> red\n",
      "Michelle ==> gray\n",
      "Kelly ==> green\n",
      "Chris ==> red\n"
     ]
    }
   ],
   "source": [
    "problem = CspProblem(names, colors, constraints)\n",
    "output = backtrack(problem)\n",
    "print('Color mapping:\\n')\n",
    "for k, v in output.items():\n",
    "    print(k, '==>', v)"
   ]
  }
 ],
 "metadata": {
  "kernelspec": {
   "display_name": "Python 3",
   "language": "python",
   "name": "python3"
  },
  "language_info": {
   "codemirror_mode": {
    "name": "ipython",
    "version": 3
   },
   "file_extension": ".py",
   "mimetype": "text/x-python",
   "name": "python",
   "nbconvert_exporter": "python",
   "pygments_lexer": "ipython3",
   "version": "3.7.2"
  }
 },
 "nbformat": 4,
 "nbformat_minor": 2
}
