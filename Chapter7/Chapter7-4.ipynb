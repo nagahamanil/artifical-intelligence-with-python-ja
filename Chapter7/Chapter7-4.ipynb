{
 "cells": [
  {
   "cell_type": "code",
   "execution_count": 1,
   "metadata": {},
   "outputs": [],
   "source": [
    "import simpleai.search as ss\n",
    "class CustomProblem(ss.SearchProblem):\n",
    "    def set_target(self, target_string):\n",
    "        self.target_string = target_string\n",
    "        \n",
    "    def actions(self, cur_state):\n",
    "        if len(cur_state) < len(self.target_string):\n",
    "            alphabets = 'abcdefghijklmnopqrstuvwxyz'\n",
    "            return list(alphabets + ' ' + alphabets.upper())\n",
    "        else:\n",
    "            return []\n",
    "        \n",
    "    def result(self, cur_state, action):\n",
    "        return cur_state + action\n",
    "    \n",
    "    def is_goal(self, cur_state):\n",
    "        return cur_state == self.target_string\n",
    "    \n",
    "    def heuristic(self, cur_state):\n",
    "        # 現在の文字列をゴール文字列と比較する\n",
    "        dist = sum([1 if cur_state[i] != self.target_string[i] else 0\n",
    "                   for i in range(len(cur_state))])\n",
    "                   \n",
    "        # 文字列の長さの差を求める\n",
    "        diff = len(self.target_string) - len(cur_state)\n",
    "                   \n",
    "        return dist + diff"
   ]
  },
  {
   "cell_type": "code",
   "execution_count": 2,
   "metadata": {},
   "outputs": [
    {
     "name": "stdout",
     "output_type": "stream",
     "text": [
      "Target string: Articial Intelligence\n",
      "\n",
      "Path to the solution:\n",
      "(None, '')\n",
      "('A', 'A')\n",
      "('r', 'Ar')\n",
      "('t', 'Art')\n",
      "('i', 'Arti')\n",
      "('c', 'Artic')\n",
      "('i', 'Artici')\n",
      "('a', 'Articia')\n",
      "('l', 'Articial')\n",
      "(' ', 'Articial ')\n",
      "('I', 'Articial I')\n",
      "('n', 'Articial In')\n",
      "('t', 'Articial Int')\n",
      "('e', 'Articial Inte')\n",
      "('l', 'Articial Intel')\n",
      "('l', 'Articial Intell')\n",
      "('i', 'Articial Intelli')\n",
      "('g', 'Articial Intellig')\n",
      "('e', 'Articial Intellige')\n",
      "('n', 'Articial Intelligen')\n",
      "('c', 'Articial Intelligenc')\n",
      "('e', 'Articial Intelligence')\n"
     ]
    }
   ],
   "source": [
    "problem = CustomProblem()\n",
    "\n",
    "input_string = 'Articial Intelligence'\n",
    "initial_state = ''\n",
    "problem.set_target(input_string)\n",
    "problem.initial_state = initial_state\n",
    "\n",
    "output = ss.greedy(problem)\n",
    "\n",
    "print('Target string:', input_string)\n",
    "print('\\nPath to the solution:')\n",
    "for item in output.path():\n",
    "    print(item)"
   ]
  },
  {
   "cell_type": "code",
   "execution_count": 3,
   "metadata": {},
   "outputs": [
    {
     "name": "stdout",
     "output_type": "stream",
     "text": [
      "Target string: Artifical Intelligience with Python\n",
      "\n",
      "Path to the solution:\n",
      "(None, 'Artifical Inte')\n",
      "('l', 'Artifical Intel')\n",
      "('l', 'Artifical Intell')\n",
      "('i', 'Artifical Intelli')\n",
      "('g', 'Artifical Intellig')\n",
      "('i', 'Artifical Intelligi')\n",
      "('e', 'Artifical Intelligie')\n",
      "('n', 'Artifical Intelligien')\n",
      "('c', 'Artifical Intelligienc')\n",
      "('e', 'Artifical Intelligience')\n",
      "(' ', 'Artifical Intelligience ')\n",
      "('w', 'Artifical Intelligience w')\n",
      "('i', 'Artifical Intelligience wi')\n",
      "('t', 'Artifical Intelligience wit')\n",
      "('h', 'Artifical Intelligience with')\n",
      "(' ', 'Artifical Intelligience with ')\n",
      "('P', 'Artifical Intelligience with P')\n",
      "('y', 'Artifical Intelligience with Py')\n",
      "('t', 'Artifical Intelligience with Pyt')\n",
      "('h', 'Artifical Intelligience with Pyth')\n",
      "('o', 'Artifical Intelligience with Pytho')\n",
      "('n', 'Artifical Intelligience with Python')\n"
     ]
    }
   ],
   "source": [
    "input_string = 'Artifical Intelligience with Python'\n",
    "initial_state = 'Artifical Inte'\n",
    "\n",
    "problem.set_target(input_string)\n",
    "problem.initial_state = initial_state\n",
    "\n",
    "output = ss.greedy(problem)\n",
    "\n",
    "print('Target string:', input_string)\n",
    "print('\\nPath to the solution:')\n",
    "for item in output.path():\n",
    "    print(item)"
   ]
  }
 ],
 "metadata": {
  "kernelspec": {
   "display_name": "Python 3",
   "language": "python",
   "name": "python3"
  },
  "language_info": {
   "codemirror_mode": {
    "name": "ipython",
    "version": 3
   },
   "file_extension": ".py",
   "mimetype": "text/x-python",
   "name": "python",
   "nbconvert_exporter": "python",
   "pygments_lexer": "ipython3",
   "version": "3.7.2"
  }
 },
 "nbformat": 4,
 "nbformat_minor": 2
}
