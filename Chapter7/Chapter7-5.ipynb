{
 "cells": [
  {
   "cell_type": "code",
   "execution_count": 1,
   "metadata": {},
   "outputs": [],
   "source": [
    "# p.159 7.5 制約を用いた問題解法\n",
    "variables = ('John', 'Anna', 'Tom', 'Patricia')\n",
    "\n",
    "domains = {\n",
    "    'John': [1, 2, 3],\n",
    "    'Anna': [1, 3],\n",
    "    'Tom': [2, 4],\n",
    "    'Patricia': [2, 3, 4],\n",
    "}"
   ]
  },
  {
   "cell_type": "code",
   "execution_count": 2,
   "metadata": {},
   "outputs": [],
   "source": [
    "# 異なる値を持つ\n",
    "def constraint_unique(variables, values):\n",
    "    # 値が単一かどうか確認する\n",
    "    return len(values) == len(set(values))\n",
    "\n",
    "# 大小関係の制約\n",
    "def constraint_bigger(variables, values):\n",
    "    return values[0] > values[1]\n",
    "\n",
    "# 片方が奇数片方が偶数(2で割った値が異なれば良い)\n",
    "def constraint_odd_even(variables, values):\n",
    "    return values[0] % 2 != values[1] % 2"
   ]
  },
  {
   "cell_type": "code",
   "execution_count": 3,
   "metadata": {},
   "outputs": [],
   "source": [
    "constraints = [\n",
    "    (('John', 'Anna', 'Tom'), constraint_unique),\n",
    "    (('Tom', 'Anna'), constraint_bigger),\n",
    "    (('John', 'Patricia'), constraint_odd_even),\n",
    "]"
   ]
  },
  {
   "cell_type": "code",
   "execution_count": 4,
   "metadata": {},
   "outputs": [],
   "source": [
    "from simpleai.search import CspProblem, backtrack, min_conflicts\n",
    "from simpleai.search import MOST_CONSTRAINED_VARIABLE, HIGHEST_DEGREE_VARIABLE\n",
    "from simpleai.search import LEAST_CONSTRAINING_VALUE"
   ]
  },
  {
   "cell_type": "code",
   "execution_count": 5,
   "metadata": {},
   "outputs": [
    {
     "name": "stdout",
     "output_type": "stream",
     "text": [
      "Normal: {'John': 1, 'Anna': 3, 'Tom': 4, 'Patricia': 2}\n"
     ]
    }
   ],
   "source": [
    "problem = CspProblem(variables, domains, constraints)\n",
    "\n",
    "print('Normal:', backtrack(problem))"
   ]
  },
  {
   "cell_type": "code",
   "execution_count": 6,
   "metadata": {},
   "outputs": [
    {
     "name": "stdout",
     "output_type": "stream",
     "text": [
      "Most constrained variable: {'Anna': 1, 'Tom': 2, 'John': 3, 'Patricia': 2}\n"
     ]
    }
   ],
   "source": [
    "print('Most constrained variable:', \n",
    "      backtrack(problem, variable_heuristic=MOST_CONSTRAINED_VARIABLE))"
   ]
  },
  {
   "cell_type": "code",
   "execution_count": 7,
   "metadata": {},
   "outputs": [
    {
     "name": "stdout",
     "output_type": "stream",
     "text": [
      "Highest degree variable: {'John': 1, 'Anna': 3, 'Tom': 4, 'Patricia': 2}\n"
     ]
    }
   ],
   "source": [
    "print('Highest degree variable:', \n",
    "      backtrack(problem, variable_heuristic=HIGHEST_DEGREE_VARIABLE))"
   ]
  },
  {
   "cell_type": "code",
   "execution_count": 8,
   "metadata": {},
   "outputs": [
    {
     "name": "stdout",
     "output_type": "stream",
     "text": [
      "Least constraining value: {'John': 1, 'Anna': 3, 'Tom': 4, 'Patricia': 2}\n"
     ]
    }
   ],
   "source": [
    "print('Least constraining value:',\n",
    "     backtrack(problem, value_heuristic=LEAST_CONSTRAINING_VALUE))"
   ]
  },
  {
   "cell_type": "code",
   "execution_count": 9,
   "metadata": {},
   "outputs": [
    {
     "name": "stdout",
     "output_type": "stream",
     "text": [
      "Most constrained variable and least constraining value: {'Anna': 1, 'Tom': 2, 'John': 3, 'Patricia': 2}\n"
     ]
    }
   ],
   "source": [
    "print('Most constrained variable and least constraining value:',\n",
    "     backtrack(problem, variable_heuristic=MOST_CONSTRAINED_VARIABLE,\n",
    "              value_heuristic=LEAST_CONSTRAINING_VALUE))"
   ]
  },
  {
   "cell_type": "code",
   "execution_count": 10,
   "metadata": {},
   "outputs": [
    {
     "name": "stdout",
     "output_type": "stream",
     "text": [
      "Highest degree and least constraining value: {'John': 1, 'Anna': 3, 'Tom': 4, 'Patricia': 2}\n"
     ]
    }
   ],
   "source": [
    "print('Highest degree and least constraining value:',\n",
    "     backtrack(problem, variable_heuristic=HIGHEST_DEGREE_VARIABLE,\n",
    "              value_heuristic=LEAST_CONSTRAINING_VALUE))"
   ]
  },
  {
   "cell_type": "code",
   "execution_count": 11,
   "metadata": {},
   "outputs": [
    {
     "name": "stdout",
     "output_type": "stream",
     "text": [
      "Minimum conflicts: {'John': 3, 'Anna': 1, 'Tom': 4, 'Patricia': 4}\n"
     ]
    }
   ],
   "source": [
    "print('Minimum conflicts:', min_conflicts(problem))"
   ]
  }
 ],
 "metadata": {
  "kernelspec": {
   "display_name": "Python 3",
   "language": "python",
   "name": "python3"
  },
  "language_info": {
   "codemirror_mode": {
    "name": "ipython",
    "version": 3
   },
   "file_extension": ".py",
   "mimetype": "text/x-python",
   "name": "python",
   "nbconvert_exporter": "python",
   "pygments_lexer": "ipython3",
   "version": "3.7.2"
  }
 },
 "nbformat": 4,
 "nbformat_minor": 2
}
