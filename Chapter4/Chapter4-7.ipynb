{
 "cells": [
  {
   "cell_type": "code",
   "execution_count": 1,
   "metadata": {},
   "outputs": [],
   "source": [
    "# p.102 4.7 Affinity Propagationモデルを使った\n",
    "# 株式市場のサブグループ検出\n",
    "import datetime\n",
    "import json\n",
    "import numpy as np\n",
    "from sklearn import covariance, cluster\n",
    "import pandas as pd\n",
    "import pandas_datareader.data as pdd"
   ]
  },
  {
   "cell_type": "code",
   "execution_count": null,
   "metadata": {},
   "outputs": [],
   "source": [
    "input_file = 'company_symbol_mapping.json'\n",
    "\n",
    "with open(input_file, 'r') as f:\n",
    "    company_symbols_map = json.loads(f.read())\n",
    "    \n",
    "symbols = company_symbols_map.keys()\n",
    "\n",
    "#https://www.quandl.com/account/profile\n",
    "QUANDL_API_KEY = 'XXXXXXXXXXXXXXXXXXXX'\n",
    "\n",
    "start_date = datetime.datetime(2003, 7, 3)\n",
    "end_date = datetime.datetime(2007, 5, 4)\n",
    "\n",
    "quotes = []\n",
    "names = []\n",
    "\n",
    "for symbol in symbols:\n",
    "    try:\n",
    "        print('Loading ', symbol, end='...')\n",
    "        d = pdd.DataReader('WIKI/' + symbol, 'quandl', start_date,\n",
    "                          end_date,\n",
    "                          access_key = QUANDL_API_KEY)\n",
    "        print('done')\n",
    "        quotes.append(d)\n",
    "        names.append(company_symbols_map[symbol])\n",
    "    except:\n",
    "        print('not found.')\n",
    "names = np.array(names)"
   ]
  },
  {
   "cell_type": "code",
   "execution_count": 7,
   "metadata": {},
   "outputs": [
    {
     "name": "stdout",
     "output_type": "stream",
     "text": [
      "Cluster 1 ==> Exxon,Chevron,ConocoPhillips,Valero Energy\n",
      "Cluster 2 ==> Yahoo,Amazon,Apple\n",
      "Cluster 3 ==> Ford,Navistar,Caterpillar\n",
      "Cluster 4 ==> Kraft Foods\n",
      "Cluster 5 ==> Coca Cola,Pepsi,Kellogg,Procter Gamble,Colgate-Palmolive,Kimberly-Clark\n",
      "Cluster 6 ==> Comcast,Mc Donalds,Marriott,Wells Fargo,JPMorgan Chase,AIG,American express,Bank of America,Goldman Sachs,Xerox,Wal-Mart,Home Depot,Pfizer,Ryder\n",
      "Cluster 7 ==> Microsoft,IBM,Time Warner,HP,3M,General Electrics,Cisco,Texas instruments\n",
      "Cluster 8 ==> Walgreen,CVS\n",
      "Cluster 9 ==> Northrop Grumman,Boeing,General Dynamics,Raytheon\n"
     ]
    }
   ],
   "source": [
    "opening_quotes = np.array([quote['Open'] for quote in quotes]).astype(np.float)\n",
    "closing_quotes = np.array([quote['Close'] for quote in quotes]).astype(np.float)\n",
    "quotes_diff = closing_quotes - opening_quotes\n",
    "\n",
    "X = quotes_diff.copy().T\n",
    "X /= X.std(axis=0)\n",
    "\n",
    "edge_model = covariance.GraphicalLassoCV(cv=3)\n",
    "\n",
    "with np.errstate(invalid='ignore'):\n",
    "    edge_model.fit(X)\n",
    "    \n",
    "_, labels = cluster.affinity_propagation(edge_model.covariance_)\n",
    "num_labels = labels.max()\n",
    "\n",
    "for i in range(num_labels + 1):\n",
    "    print(\"Cluster\", i+1, \"==>\", ','.join(names[labels == i]))"
   ]
  }
 ],
 "metadata": {
  "kernelspec": {
   "display_name": "Python 3",
   "language": "python",
   "name": "python3"
  },
  "language_info": {
   "codemirror_mode": {
    "name": "ipython",
    "version": 3
   },
   "file_extension": ".py",
   "mimetype": "text/x-python",
   "name": "python",
   "nbconvert_exporter": "python",
   "pygments_lexer": "ipython3",
   "version": "3.7.2"
  }
 },
 "nbformat": 4,
 "nbformat_minor": 2
}
