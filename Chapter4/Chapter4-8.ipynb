{
 "cells": [
  {
   "cell_type": "code",
   "execution_count": 1,
   "metadata": {},
   "outputs": [],
   "source": [
    "import csv\n",
    "import numpy as np\n",
    "import matplotlib.pyplot as plt\n",
    "%matplotlib inline\n",
    "from sklearn.cluster import MeanShift, estimate_bandwidth"
   ]
  },
  {
   "cell_type": "code",
   "execution_count": 2,
   "metadata": {},
   "outputs": [],
   "source": [
    "# ファイルからデータを読み込む\n",
    "input_file = 'sales.csv'\n",
    "file_reader = csv.reader(open(input_file, 'r'), delimiter=',')\n",
    "\n",
    "X = []\n",
    "for count, row in enumerate(file_reader):\n",
    "    if not count: # 先頭行はラベル\n",
    "        names = row[1:]\n",
    "        continue\n",
    "    # 2行目以降はデータ\n",
    "    X.append([float(x) for x in row[1:]])\n",
    "    \n",
    "# numpy 配列に変換する\n",
    "X = np.array(X)"
   ]
  },
  {
   "cell_type": "code",
   "execution_count": 3,
   "metadata": {},
   "outputs": [
    {
     "name": "stdout",
     "output_type": "stream",
     "text": [
      "\n",
      "Number of clusters in input data = 9\n",
      "\n",
      "Centers of clusters:\n",
      "Tshirt\tTank to\tHalter \tTurtlen\tTube to\tSweater\n",
      "9823\t4637\t6539\t2607\t2228\t1239\n",
      "38589\t44199\t56158\t5030\t24674\t4125\n",
      "104972\t29186\t19415\t16016\t5060\t9372\n",
      "38741\t40539\t20120\t35059\t255\t50710\n",
      "35314\t16745\t12775\t66900\t1298\t5613\n",
      "28333\t34263\t24065\t5575\t4229\t18076\n",
      "22617\t77873\t32543\t1005\t21035\t837\n",
      "14987\t46397\t97393\t1127\t37315\t3235\n",
      "7852\t4939\t63081\t134\t40066\t1332\n"
     ]
    }
   ],
   "source": [
    "bandwidth = estimate_bandwidth(X, quantile=0.8, n_samples=len(X))\n",
    "\n",
    "meanshift_model = MeanShift(bandwidth=bandwidth, bin_seeding=True)\n",
    "meanshift_model.fit(X)\n",
    "\n",
    "labels = meanshift_model.labels_\n",
    "cluster_centers = meanshift_model.cluster_centers_\n",
    "num_clusters = len(np.unique(labels))\n",
    "\n",
    "print(\"\\nNumber of clusters in input data =\", num_clusters)\n",
    "\n",
    "print(\"\\nCenters of clusters:\")\n",
    "print('\\t'.join([name[:7] for name in names]))\n",
    "for cluster_center in cluster_centers:\n",
    "    print('\\t'.join([str(int(x)) for x in cluster_center]))"
   ]
  },
  {
   "cell_type": "code",
   "execution_count": 4,
   "metadata": {},
   "outputs": [
    {
     "data": {
      "image/png": "[encoded data removed]",
      "text/plain": [
       "<Figure size 432x288 with 1 Axes>"
      ]
     },
     "metadata": {
      "needs_background": "light"
     },
     "output_type": "display_data"
    }
   ],
   "source": [
    "plt.figure()\n",
    "x = 1\n",
    "y = 2\n",
    "plt.scatter(cluster_centers[:,x], cluster_centers[:,y],\n",
    "           s=120, edgecolors='black', facecolors='none')\n",
    "\n",
    "plt.title('Centers of 2D clusters')\n",
    "plt.xlabel(names[x])\n",
    "plt.ylabel(names[y])\n",
    "plt.show()"
   ]
  }
 ],
 "metadata": {
  "kernelspec": {
   "display_name": "Python 3",
   "language": "python",
   "name": "python3"
  },
  "language_info": {
   "codemirror_mode": {
    "name": "ipython",
    "version": 3
   },
   "file_extension": ".py",
   "mimetype": "text/x-python",
   "name": "python",
   "nbconvert_exporter": "python",
   "pygments_lexer": "ipython3",
   "version": "3.7.2"
  }
 },
 "nbformat": 4,
 "nbformat_minor": 2
}
