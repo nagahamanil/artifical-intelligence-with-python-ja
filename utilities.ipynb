{
 "cells": [
  {
   "cell_type": "code",
   "execution_count": null,
   "metadata": {},
   "outputs": [],
   "source": [
    "import numpy as np \n",
    "import matplotlib.pyplot as plt\n",
    "%matplotlib inline\n",
    "\n",
    "def visualize_classifier(classifier, X, y, title=''): \n",
    "    min_x, max_x = X[:, 0].min() - 1.0, X[:, 0].max() + 1.0 \n",
    "    min_y, max_y = X[:, 1].min() - 1.0, X[:, 1].max() + 1.0 \n",
    "    \n",
    "    mesh_step_size = 0.01 \n",
    "\n",
    "    x_vals, y_vals = np.meshgrid(np.arange(min_x, max_x, mesh_step_size),\n",
    "                                 np.arange(min_y, max_y, mesh_step_size)) \n",
    "    \n",
    "    output = classifier.predict(np.c_[x_vals.ravel(), y_vals.ravel()]) \n",
    "    output = output.reshape(x_vals.shape)     \n",
    "    \n",
    "    plt.figure() \n",
    "    plt.title(title)\n",
    "    plt.pcolormesh(x_vals, y_vals, output, cmap=plt.cm.gray) \n",
    "    plt.scatter(X[:, 0], X[:, 1], c=y, s=75, edgecolors='black', linewidth=1,\n",
    "                cmap=plt.cm.Paired) \n",
    "    \n",
    "    plt.xlim(x_vals.min(), x_vals.max()) \n",
    "    plt.ylim(y_vals.min(), y_vals.max()) \n",
    "\n",
    "    plt.xticks((np.arange(int(min_x), int(max_x), 1.0))) \n",
    "    plt.yticks((np.arange(int(min_y), int(max_y), 1.0))) \n",
    "\n",
    "    plt.show() \n",
    "    "
   ]
  }
 ],
 "metadata": {
  "kernelspec": {
   "display_name": "Python 3",
   "language": "python",
   "name": "python3"
  },
  "language_info": {
   "codemirror_mode": {
    "name": "ipython",
    "version": 3
   },
   "file_extension": ".py",
   "mimetype": "text/x-python",
   "name": "python",
   "nbconvert_exporter": "python",
   "pygments_lexer": "ipython3",
   "version": "3.7.2"
  }
 },
 "nbformat": 4,
 "nbformat_minor": 2
}
