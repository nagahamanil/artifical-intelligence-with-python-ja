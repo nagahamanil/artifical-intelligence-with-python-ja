{
 "cells": [
  {
   "cell_type": "code",
   "execution_count": 1,
   "metadata": {},
   "outputs": [
    {
     "name": "stdout",
     "output_type": "stream",
     "text": [
      "['Washington', 'Oregon', 'California', 'Texas', 'Louisiana', 'Michigan', 'Alabama', 'Georgia', 'Florida', 'South Carolina', 'North Carolina', 'Virgin Islands', 'Maryland', 'Delaware', 'New Jersey', 'New York', 'Connecticut', 'Rhode Island', 'Massachusetts', 'Minnesota', 'New Hampshire']\n"
     ]
    }
   ],
   "source": [
    "# p.143 6.8 地理の解析\n",
    "from kanren import run, fact, eq, Relation, var\n",
    "\n",
    "coastal = Relation()\n",
    "adjacent = Relation()\n",
    "\n",
    "file_coastal = 'coastal_states.txt'\n",
    "\n",
    "with open(file_coastal, 'r') as f:\n",
    "    line = f.read()\n",
    "    coastal_states = line.split(',')\n",
    "    \n",
    "print(coastal_states)\n",
    "\n",
    "for state in coastal_states:\n",
    "    fact(coastal, state)"
   ]
  },
  {
   "cell_type": "code",
   "execution_count": 2,
   "metadata": {},
   "outputs": [
    {
     "name": "stdout",
     "output_type": "stream",
     "text": [
      "[['Alaska'], ['Alabama', 'Mississippi', 'Tennessee', 'Georgia', 'Florida'], ['Arkansas', 'Missouri', 'Tennessee', 'Mississippi', 'Louisiana', 'Texas', 'Oklahoma'], ['Arizona', 'California', 'Nevada', 'Utah', 'Colorado', 'New Mexico'], ['California', 'Oregon', 'Nevada', 'Arizona'], ['Colorado', 'Wyoming', 'Nebraska', 'Kansas', 'Oklahoma', 'New Mexico', 'Arizona', 'Utah'], ['Connecticut', 'New York', 'Massachusetts', 'Rhode Island'], ['District of Columbia', 'Maryland', 'Virginia'], ['Delaware', 'Maryland', 'Pennsylvania', 'New Jersey'], ['Florida', 'Alabama', 'Georgia'], ['Georgia', 'Florida', 'Alabama', 'Tennessee', 'North Carolina', 'South Carolina'], ['Hawaii'], ['Iowa', 'Minnesota', 'Wisconsin', 'Illinois', 'Missouri', 'Nebraska', 'South Dakota'], ['Idaho', 'Montana', 'Wyoming', 'Utah', 'Nevada', 'Oregon', 'Washington'], ['Illinois', 'Indiana', 'Kentucky', 'Missouri', 'Iowa', 'Wisconsin'], ['Indiana', 'Michigan', 'Ohio', 'Kentucky', 'Illinois'], ['Kansas', 'Nebraska', 'Missouri', 'Oklahoma', 'Colorado'], ['Kentucky', 'Indiana', 'Ohio', 'West Virginia', 'Virginia', 'Tennessee', 'Missouri', 'Illinois'], ['Louisiana', 'Texas', 'Arkansas', 'Mississippi'], ['Massachusetts', 'Rhode Island', 'Connecticut', 'New York', 'New Hampshire', 'Vermont'], ['Maryland', 'Virginia', 'West Virginia', 'Pennsylvania', 'District of Columbia', 'Delaware'], ['Maine', 'New Hampshire'], ['Michigan', 'Wisconsin', 'Indiana', 'Ohio'], ['Minnesota', 'Wisconsin', 'Iowa', 'South Dakota', 'North Dakota'], ['Missouri', 'Iowa', 'Illinois', 'Kentucky', 'Tennessee', 'Arkansas', 'Oklahoma', 'Kansas', 'Nebraska'], ['Mississippi', 'Louisiana', 'Arkansas', 'Tennessee', 'Alabama'], ['Montana', 'North Dakota', 'South Dakota', 'Wyoming', 'Idaho'], ['North Carolina', 'Virginia', 'Tennessee', 'Georgia', 'South Carolina'], ['North Dakota', 'Minnesota', 'South Dakota', 'Montana'], ['Nebraska', 'South Dakota', 'Iowa', 'Missouri', 'Kansas', 'Colorado', 'Wyoming'], ['New Hampshire', 'Vermont', 'Maine', 'Massachusetts'], ['New Jersey', 'Delaware', 'Pennsylvania', 'New York'], ['New Mexico', 'Arizona', 'Utah', 'Colorado', 'Oklahoma', 'Texas'], ['Nevada', 'Idaho', 'Utah', 'Arizona', 'California', 'Oregon'], ['New York', 'New Jersey', 'Pennsylvania', 'Vermont', 'Massachusetts', 'Connecticut'], ['Ohio', 'Pennsylvania', 'West Virginia', 'Kentucky', 'Indiana', 'Michigan'], ['Oklahoma', 'Kansas', 'Missouri', 'Arkansas', 'Texas', 'New Mexico', 'Colorado'], ['Oregon', 'California', 'Nevada', 'Idaho', 'Washington'], ['Pennsylvania', 'New York', 'New Jersey', 'Delaware', 'Maryland', 'West Virginia', 'Ohio'], ['Rhode Island', 'Connecticut', 'Massachusetts'], ['South Carolina', 'Georgia', 'North Carolina'], ['South Dakota', 'North Dakota', 'Minnesota', 'Iowa', 'Nebraska', 'Wyoming', 'Montana'], ['Tennessee', 'Kentucky', 'Virginia', 'North Carolina', 'Georgia', 'Alabama', 'Mississippi', 'Arkansas', 'Missouri'], ['Texas', 'New Mexico', 'Oklahoma', 'Arkansas', 'Louisiana'], ['Utah', 'Idaho', 'Wyoming', 'Colorado', 'New Mexico', 'Arizona', 'Nevada'], ['Virginia', 'North Carolina', 'Tennessee', 'Kentucky', 'West Virginia', 'Maryland', 'District of Columbia'], ['Vermont', 'New York', 'New Hampshire', 'Massachusetts'], ['Washington', 'Idaho', 'Oregon'], ['Wisconsin', 'Michigan', 'Minnesota', 'Iowa', 'Illinois'], ['West Virginia', 'Ohio', 'Pennsylvania', 'Maryland', 'Virginia', 'Kentucky'], ['Wyoming', 'Montana', 'South Dakota', 'Nebraska', 'Colorado', 'Utah', 'Idaho']]\n"
     ]
    }
   ],
   "source": [
    "file_adjacent = 'adjacent_states.txt'\n",
    "with open(file_adjacent, 'r') as f:\n",
    "    adjlist = [line.strip().split(',') for line in f\n",
    "              if line and line[0].isalpha()]\n",
    "\n",
    "print(adjlist)\n",
    "    \n",
    "for L in adjlist:\n",
    "    head, tail = L[0], L[1:]\n",
    "    for state in tail:\n",
    "        fact(adjacent, head, state)"
   ]
  },
  {
   "cell_type": "code",
   "execution_count": 3,
   "metadata": {},
   "outputs": [
    {
     "name": "stdout",
     "output_type": "stream",
     "text": [
      "No\n"
     ]
    }
   ],
   "source": [
    "# ネバダ州がルイジアナ州に隣接しているか\n",
    "x = var()\n",
    "output = run(0, x, adjacent('Nevada', 'Louisiana'))\n",
    "print('Yes' if len(output) else 'No')"
   ]
  },
  {
   "cell_type": "code",
   "execution_count": 4,
   "metadata": {},
   "outputs": [
    {
     "name": "stdout",
     "output_type": "stream",
     "text": [
      "Washington\n",
      "Nevada\n",
      "California\n",
      "Idaho\n"
     ]
    }
   ],
   "source": [
    "# オレゴン州に隣接したすべての州\n",
    "output = run(0, x, adjacent('Oregon', x))\n",
    "for item in output:\n",
    "    print(item)"
   ]
  },
  {
   "cell_type": "code",
   "execution_count": 5,
   "metadata": {},
   "outputs": [
    {
     "name": "stdout",
     "output_type": "stream",
     "text": [
      "Alabama\n",
      "Louisiana\n"
     ]
    }
   ],
   "source": [
    "# ミシシッピ州に隣接し、海に面する州\n",
    "output = run(0, x, adjacent('Mississippi', x), coastal(x))\n",
    "for item in output:\n",
    "    print(item)"
   ]
  },
  {
   "cell_type": "code",
   "execution_count": 6,
   "metadata": {},
   "outputs": [
    {
     "name": "stdout",
     "output_type": "stream",
     "text": [
      "Pennsylvania\n",
      "Virginia\n",
      "South Dakota\n",
      "District of Columbia\n",
      "Georgia\n",
      "Oregon\n",
      "Mississippi\n"
     ]
    }
   ],
   "source": [
    "# 海に面した州に接する州を7つ\n",
    "y = var()\n",
    "output = run(7, x, coastal(y), adjacent(x, y))\n",
    "for item in output:\n",
    "    print(item)"
   ]
  },
  {
   "cell_type": "code",
   "execution_count": 7,
   "metadata": {},
   "outputs": [
    {
     "name": "stdout",
     "output_type": "stream",
     "text": [
      "Tennessee\n",
      "Missouri\n"
     ]
    }
   ],
   "source": [
    "# アーカンソー州とケンタッキー州に接する州\n",
    "output = run(0, x, adjacent('Arkansas', x), adjacent('Kentucky', x))\n",
    "for item in output:\n",
    "    print(item)"
   ]
  }
 ],
 "metadata": {
  "kernelspec": {
   "display_name": "Python 3",
   "language": "python",
   "name": "python3"
  },
  "language_info": {
   "codemirror_mode": {
    "name": "ipython",
    "version": 3
   },
   "file_extension": ".py",
   "mimetype": "text/x-python",
   "name": "python",
   "nbconvert_exporter": "python",
   "pygments_lexer": "ipython3",
   "version": "3.7.2"
  }
 },
 "nbformat": 4,
 "nbformat_minor": 2
}
