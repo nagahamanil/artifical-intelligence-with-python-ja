{
 "cells": [
  {
   "cell_type": "code",
   "execution_count": 1,
   "metadata": {},
   "outputs": [],
   "source": [
    "# p.136 6.6 素数の判定\n",
    "import itertools as it\n",
    "from kanren import isvar, membero, var, run, eq\n",
    "from kanren.core import success, fail, condeseq\n",
    "from sympy.ntheory.generate import prime, isprime"
   ]
  },
  {
   "cell_type": "code",
   "execution_count": 2,
   "metadata": {},
   "outputs": [],
   "source": [
    "# xが素数かどうかを判定する\n",
    "def check_prime(x):\n",
    "    if isvar(x):\n",
    "        return condeseq([eq(x, p)] for p in map(prime, it.count(1)))    \n",
    "    else:\n",
    "        return success if isprime(x) else fail"
   ]
  },
  {
   "cell_type": "code",
   "execution_count": 3,
   "metadata": {},
   "outputs": [
    {
     "name": "stdout",
     "output_type": "stream",
     "text": [
      "List of primes in the list:\n",
      "{3, 11, 13, 17, 19, 23, 29}\n"
     ]
    }
   ],
   "source": [
    "x = var()\n",
    "\n",
    "list_nums = (23, 4, 27, 17, 13, 10, 21, 29, 3, 32, 11, 19)\n",
    "print('List of primes in the list:')\n",
    "print(set(run(0, x, (membero, x, list_nums), (check_prime, x))))"
   ]
  },
  {
   "cell_type": "code",
   "execution_count": 4,
   "metadata": {},
   "outputs": [
    {
     "name": "stdout",
     "output_type": "stream",
     "text": [
      "List of first 7 prime numbers:\n",
      "(2, 3, 5, 7, 11, 13, 17)\n"
     ]
    }
   ],
   "source": [
    "print('List of first 7 prime numbers:')\n",
    "print(run(7, x, (check_prime, x)))"
   ]
  }
 ],
 "metadata": {
  "kernelspec": {
   "display_name": "Python 3",
   "language": "python",
   "name": "python3"
  },
  "language_info": {
   "codemirror_mode": {
    "name": "ipython",
    "version": 3
   },
   "file_extension": ".py",
   "mimetype": "text/x-python",
   "name": "python",
   "nbconvert_exporter": "python",
   "pygments_lexer": "ipython3",
   "version": "3.7.2"
  }
 },
 "nbformat": 4,
 "nbformat_minor": 2
}
