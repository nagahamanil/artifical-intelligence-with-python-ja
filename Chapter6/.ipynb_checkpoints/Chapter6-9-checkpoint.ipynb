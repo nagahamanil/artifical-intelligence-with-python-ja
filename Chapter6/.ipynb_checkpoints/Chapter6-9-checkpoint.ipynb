{
 "cells": [
  {
   "cell_type": "code",
   "execution_count": 1,
   "metadata": {},
   "outputs": [],
   "source": [
    "# p.146 6.9 パズルの解法\n",
    "from kanren import *\n",
    "\n",
    "people = var()\n",
    "\n",
    "rules = lall(\n",
    "    # 4人いる\n",
    "    (eq, (var(), var(), var(), var()), people),\n",
    "    \n",
    "    # スティーブは青い車を持っている\n",
    "    (membero, ('Steve', var(), 'blue', var()), people),\n",
    "    \n",
    "    # 猫を飼っている人はカナダに住んでいる\n",
    "    (membero, (var(), 'cat', var(), 'Canada'), people),\n",
    "    \n",
    "    # Matthewはアメリカに住んでいる\n",
    "    (membero, ('Matthew', var(), var(), 'USA'), people),\n",
    "    \n",
    "    # 黒い車を持っている人はオーストラリアに住んでいる\n",
    "    (membero, (var(), var(), 'black', 'Australia'), people),\n",
    "    \n",
    "    # ジャックは猫を飼っている\n",
    "    (membero, ('Jack', 'cat', var(), var()), people),\n",
    "    \n",
    "    # アルフレッドはオーストラリアに住んでいる\n",
    "    (membero, ('Alfred', var(), var(), 'Australia'), people),\n",
    "    \n",
    "    # 犬を飼っているひとはフランスに住んでいる\n",
    "    (membero, (var(), 'dog', var(), 'France'), people),\n",
    "    \n",
    "    # うさぎを飼っている人は誰だ？\n",
    "    (membero, (var(), 'rabbit', var(), var()), people)\n",
    ")"
   ]
  },
  {
   "cell_type": "code",
   "execution_count": 2,
   "metadata": {},
   "outputs": [
    {
     "name": "stdout",
     "output_type": "stream",
     "text": [
      "Matthew is the owner of the rabbit\n"
     ]
    }
   ],
   "source": [
    "solutions = run(0, people, rules)\n",
    "\n",
    "output = [house for house in solutions[0] if 'rabbit' in house][0][0]\n",
    "print(output + ' is the owner of the rabbit')"
   ]
  },
  {
   "cell_type": "code",
   "execution_count": 3,
   "metadata": {},
   "outputs": [
    {
     "name": "stdout",
     "output_type": "stream",
     "text": [
      "Here are all the details:\n",
      "\n",
      "Name\t\tPet\t\tColor\t\tCountry\n",
      "============================================================\n",
      "Steve\t\tdog\t\tblue\t\tFrance\n",
      "Jack\t\tcat\t\t~_9\t\tCanada\n",
      "Matthew\t\trabbit\t\t~_11\t\tUSA\n",
      "Alfred\t\t~_13\t\tblack\t\tAustralia\n"
     ]
    }
   ],
   "source": [
    "print('Here are all the details:')\n",
    "attribs = ['Name', 'Pet', 'Color', 'Country']\n",
    "print('\\n' + '\\t\\t'.join(attribs))\n",
    "print('=' * 60)\n",
    "for item in solutions[0]:\n",
    "    print('\\t\\t'.join([str(x) for x in item]))"
   ]
  }
 ],
 "metadata": {
  "kernelspec": {
   "display_name": "Python 3",
   "language": "python",
   "name": "python3"
  },
  "language_info": {
   "codemirror_mode": {
    "name": "ipython",
    "version": 3
   },
   "file_extension": ".py",
   "mimetype": "text/x-python",
   "name": "python",
   "nbconvert_exporter": "python",
   "pygments_lexer": "ipython3",
   "version": "3.7.2"
  }
 },
 "nbformat": 4,
 "nbformat_minor": 2
}
