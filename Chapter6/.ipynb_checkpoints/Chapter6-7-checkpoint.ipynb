{
 "cells": [
  {
   "cell_type": "code",
   "execution_count": 1,
   "metadata": {},
   "outputs": [],
   "source": [
    "# p.137 6.7 家系図の解析\n",
    "import json\n",
    "from kanren import Relation, facts, run, conde, var, eq\n",
    "\n",
    "with open('relationships.json') as f:\n",
    "    d = json.loads(f.read())\n",
    "    \n",
    "father = Relation()\n",
    "mother = Relation()\n",
    "\n",
    "for item in d['father']:\n",
    "    facts(father, (list(item.keys())[0], list(item.values())[0]))\n",
    "    \n",
    "for item in d['mother']:\n",
    "    facts(mother, (list(item.keys())[0], list(item.values())[0]))\n",
    "    \n",
    "def parent(x, y):\n",
    "    return conde((father(x, y),), (mother(x, y),))"
   ]
  },
  {
   "cell_type": "code",
   "execution_count": 2,
   "metadata": {},
   "outputs": [],
   "source": [
    "def grandparent(x, y):\n",
    "    temp = var()\n",
    "    return conde((parent(x, temp), parent(temp, y)))\n",
    "\n",
    "def sibling(x, y):\n",
    "    temp = var()\n",
    "    return conde((parent(temp, x), parent(temp, y)))\n",
    "\n",
    "def uncle(x, y):\n",
    "    temp = var()\n",
    "    return conde((father(temp, x), grandparent(temp, y)))"
   ]
  },
  {
   "cell_type": "code",
   "execution_count": 3,
   "metadata": {},
   "outputs": [
    {
     "name": "stdout",
     "output_type": "stream",
     "text": [
      "Adam\n",
      "David\n",
      "William\n"
     ]
    }
   ],
   "source": [
    "x = var()\n",
    "output = run(0, x, (father, 'John', x))\n",
    "\n",
    "for item in output:\n",
    "    print(item)"
   ]
  },
  {
   "cell_type": "code",
   "execution_count": 4,
   "metadata": {},
   "outputs": [
    {
     "name": "stdout",
     "output_type": "stream",
     "text": [
      "Megan\n"
     ]
    }
   ],
   "source": [
    "output = run(0, x, (mother, x, 'William'))\n",
    "\n",
    "for item in output:\n",
    "    print(item)"
   ]
  },
  {
   "cell_type": "code",
   "execution_count": 5,
   "metadata": {},
   "outputs": [
    {
     "name": "stdout",
     "output_type": "stream",
     "text": [
      "John\n",
      "Megan\n"
     ]
    }
   ],
   "source": [
    "output = run(0, x, parent(x, 'Adam'))\n",
    "\n",
    "for item in output:\n",
    "    print(item)"
   ]
  },
  {
   "cell_type": "code",
   "execution_count": 6,
   "metadata": {},
   "outputs": [
    {
     "name": "stdout",
     "output_type": "stream",
     "text": [
      "Megan\n",
      "John\n"
     ]
    }
   ],
   "source": [
    "output = run(0, x, grandparent(x, 'Wayne'))\n",
    "for item in output:\n",
    "    print(item)"
   ]
  },
  {
   "cell_type": "code",
   "execution_count": 7,
   "metadata": {},
   "outputs": [
    {
     "name": "stdout",
     "output_type": "stream",
     "text": [
      "Stephanie\n",
      "Sophia\n",
      "Tiffany\n",
      "Chris\n",
      "Julie\n",
      "Wayne\n",
      "Peter\n",
      "Neil\n"
     ]
    }
   ],
   "source": [
    "output = run(0, x, grandparent('Megan', x))\n",
    "for item in output:\n",
    "    print(item)"
   ]
  },
  {
   "cell_type": "code",
   "execution_count": 8,
   "metadata": {},
   "outputs": [
    {
     "name": "stdout",
     "output_type": "stream",
     "text": [
      "Adam\n",
      "William\n"
     ]
    }
   ],
   "source": [
    "name = 'David'\n",
    "output = run(0, x, sibling(x, name))\n",
    "\n",
    "# 本人を除去する\n",
    "siblings = [x for x in output if x != name]\n",
    "\n",
    "for item in siblings:\n",
    "    print(item)"
   ]
  },
  {
   "cell_type": "code",
   "execution_count": 9,
   "metadata": {},
   "outputs": [
    {
     "name": "stdout",
     "output_type": "stream",
     "text": [
      "Adam\n",
      "William\n"
     ]
    }
   ],
   "source": [
    "name = 'Tiffany'\n",
    "\n",
    "# 父親の名前を求める\n",
    "name_father = run(0, x, father(x, name))[0]\n",
    "output = run(0, x, uncle(x, name))\n",
    "\n",
    "# 父親を除去する\n",
    "output = [x for x in output if x != name_father]\n",
    "for item in output:\n",
    "    print(item)"
   ]
  },
  {
   "cell_type": "code",
   "execution_count": 10,
   "metadata": {},
   "outputs": [
    {
     "name": "stdout",
     "output_type": "stream",
     "text": [
      "Husband: William <==> Wife: Emma\n",
      "Husband: Adam <==> Wife: Lily\n",
      "Husband: John <==> Wife: Megan\n",
      "Husband: David <==> Wife: Olivia\n"
     ]
    }
   ],
   "source": [
    "a, b, c = var(), var(), var()\n",
    "output = run(0, (a, b), father(a, c), mother(b, c))\n",
    "for item in output:\n",
    "    print('Husband:', item[0], '<==> Wife:', item[1])"
   ]
  }
 ],
 "metadata": {
  "kernelspec": {
   "display_name": "Python 3",
   "language": "python",
   "name": "python3"
  },
  "language_info": {
   "codemirror_mode": {
    "name": "ipython",
    "version": 3
   },
   "file_extension": ".py",
   "mimetype": "text/x-python",
   "name": "python",
   "nbconvert_exporter": "python",
   "pygments_lexer": "ipython3",
   "version": "3.7.2"
  }
 },
 "nbformat": 4,
 "nbformat_minor": 2
}
