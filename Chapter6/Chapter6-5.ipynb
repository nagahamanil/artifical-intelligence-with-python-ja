{
 "cells": [
  {
   "cell_type": "code",
   "execution_count": 1,
   "metadata": {},
   "outputs": [],
   "source": [
    "# p.134 6.5 数式の称号\n",
    "\n",
    "from kanren import run, var, fact\n",
    "import kanren.assoccomm as la\n",
    "\n",
    "add = 'addition'\n",
    "mul = 'multiplication'"
   ]
  },
  {
   "cell_type": "code",
   "execution_count": 2,
   "metadata": {},
   "outputs": [],
   "source": [
    "fact(la.commutative, mul) # 交換法則\n",
    "fact(la.commutative, add)\n",
    "fact(la.associative, mul) # 結合法則\n",
    "fact(la.associative, add)\n",
    "\n",
    "a, b, c = var('a'), var('b'), var('c')"
   ]
  },
  {
   "cell_type": "code",
   "execution_count": 3,
   "metadata": {},
   "outputs": [],
   "source": [
    "# 3 * (-2) + (1 + 2 * 3) * (-1)\n",
    "expression_orig = (add, (mul, 3, -2), (mul, (add, 1, (mul, 2, 3)), -1))\n",
    "\n",
    "# (1 + 2 * a) * b + 3 * c\n",
    "expression_1 = (add, (mul, (add, 1, (mul, 2, a)), b), (mul, 3, c))\n",
    "\n",
    "# c * 3 + b * (2 * a + 1)\n",
    "expression_2 = (add, (mul, c, 3), (mul, b, (add, (mul, 2, a), 1)))\n",
    "\n",
    "# (((2 * a) * b) + b)) + 3 * c\n",
    "expression_3 = (add, (add, (mul, (mul, 2, a), b), b), (mul, 3, c))"
   ]
  },
  {
   "cell_type": "code",
   "execution_count": 4,
   "metadata": {},
   "outputs": [
    {
     "name": "stdout",
     "output_type": "stream",
     "text": [
      "((3, -1, -2),)\n",
      "((3, -1, -2),)\n",
      "()\n"
     ]
    }
   ],
   "source": [
    "print(run(0, (a, b, c), la.eq_assoccomm(expression_1, expression_orig)))\n",
    "print(run(0, (a, b, c), la.eq_assoccomm(expression_2, expression_orig)))\n",
    "print(run(0, (a, b, c), la.eq_assoccomm(expression_3, expression_orig)))"
   ]
  }
 ],
 "metadata": {
  "kernelspec": {
   "display_name": "Python 3",
   "language": "python",
   "name": "python3"
  },
  "language_info": {
   "codemirror_mode": {
    "name": "ipython",
    "version": 3
   },
   "file_extension": ".py",
   "mimetype": "text/x-python",
   "name": "python",
   "nbconvert_exporter": "python",
   "pygments_lexer": "ipython3",
   "version": "3.7.2"
  }
 },
 "nbformat": 4,
 "nbformat_minor": 2
}
