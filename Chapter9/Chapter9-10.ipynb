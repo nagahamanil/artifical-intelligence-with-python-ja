{
 "cells": [
  {
   "cell_type": "code",
   "execution_count": 1,
   "metadata": {},
   "outputs": [],
   "source": [
    "# p.222 9.10 Hexapawn\n",
    "from easyAI import TwoPlayersGame, AI_Player, Human_Player, Negamax"
   ]
  },
  {
   "cell_type": "code",
   "execution_count": 2,
   "metadata": {},
   "outputs": [],
   "source": [
    "# コマの座標をタプルへ変換\n",
    "def to_tuple(s):\n",
    "    return (3 - int(s[1]), 'abc'.index(s[0]))\n",
    "\n",
    "def to_string(moves):\n",
    "    pre, post = moves\n",
    "    return 'abc'[pre[1]] + str(3 - pre[0]) + ' ' + 'abc'[post[1]] + str(3 - post[0])\n",
    "\n",
    "class GameController(TwoPlayersGame):\n",
    "    def __init__(self, players):\n",
    "        self.players = players\n",
    "        self.nplayer = 1\n",
    "        \n",
    "        players[0].direction = 1\n",
    "        players[0].goal_line = 2\n",
    "        players[0].pawns = [(0, 0), (0, 1), (0, 2)]\n",
    "        players[1].direction = -1\n",
    "        players[1].goal_line = 0\n",
    "        players[1].pawns = [(2, 0), (2, 1), (2, 2)]\n",
    "        \n",
    "    # 可能な指し手\n",
    "    def possible_moves(self):\n",
    "        moves = []\n",
    "        opponent_pawns = self.opponent.pawns\n",
    "        d = self.player.direction\n",
    "        \n",
    "        for i, j in self.player.pawns:\n",
    "            if (i + d, j) not in opponent_pawns: # 前方に敵なし\n",
    "                moves.append(((i, j), (i + d, j)))\n",
    "            if (i + d, j + 1) in opponent_pawns: # 斜め前に敵あり\n",
    "                moves.append(((i, j), (i + d, j + 1)))\n",
    "            if (i + d, j - 1) in opponent_pawns: # 斜め前に敵あり\n",
    "                moves.append(((i, j), (i + d, j - 1)))\n",
    "                \n",
    "        return list(map(to_string, [(pre, post) for pre, post in moves]))\n",
    "    \n",
    "    # ポーンの座標を更新\n",
    "    def make_move(self, moves):\n",
    "        pre, post = tuple(map(to_tuple, moves.split(' ')))\n",
    "        ind = self.player.pawns.index(pre)\n",
    "        self.player.pawns[ind] = post\n",
    "        \n",
    "        if post in self.opponent.pawns:\n",
    "            self.opponent.pawns.remove(post)\n",
    "            \n",
    "    def loss_condition(self):\n",
    "        return any([i == self.opponent.goal_line\n",
    "                   for i, _ in self.opponent.pawns]) or self.possible_moves() == []\n",
    "    \n",
    "    def is_over(self):\n",
    "        return self.loss_condition()\n",
    "    \n",
    "    def grid(self, pos):\n",
    "        if pos in self.players[0].pawns:\n",
    "            return '1'\n",
    "        elif pos in self.players[1].pawns:\n",
    "            return '2'\n",
    "        else:\n",
    "            return '.'\n",
    "        \n",
    "    def show(self):\n",
    "        print('  a b c')\n",
    "        for i in range(3):\n",
    "            print(3 - i, ' '.join([self.grid((i, j)) for j in range(3)]))\n",
    "            \n",
    "    def scoring(self):\n",
    "        return -100 if self.loss_condition() else 0"
   ]
  },
  {
   "cell_type": "code",
   "execution_count": 3,
   "metadata": {},
   "outputs": [
    {
     "name": "stdout",
     "output_type": "stream",
     "text": [
      "  a b c\n",
      "3 1 1 1\n",
      "2 . . .\n",
      "1 2 2 2\n",
      "\n",
      "Move #1: player 1 plays a3 a2 :\n",
      "  a b c\n",
      "3 . 1 1\n",
      "2 1 . .\n",
      "1 2 2 2\n",
      "\n",
      "Move #2: player 2 plays b1 a2 :\n",
      "  a b c\n",
      "3 . 1 1\n",
      "2 2 . .\n",
      "1 2 . 2\n",
      "\n",
      "Move #3: player 1 plays b3 a2 :\n",
      "  a b c\n",
      "3 . . 1\n",
      "2 1 . .\n",
      "1 2 . 2\n",
      "\n",
      "Move #4: player 2 plays c1 c2 :\n",
      "  a b c\n",
      "3 . . 1\n",
      "2 1 . 2\n",
      "1 2 . .\n",
      "Player 2 wins after 5 turns\n"
     ]
    }
   ],
   "source": [
    "algorithm = Negamax(12)\n",
    "\n",
    "game = GameController([AI_Player(algorithm), AI_Player(algorithm)])\n",
    "game.play()\n",
    "print('Player', game.nopponent, 'wins after', game.nmove, 'turns')"
   ]
  }
 ],
 "metadata": {
  "kernelspec": {
   "display_name": "Python 3",
   "language": "python",
   "name": "python3"
  },
  "language_info": {
   "codemirror_mode": {
    "name": "ipython",
    "version": 3
   },
   "file_extension": ".py",
   "mimetype": "text/x-python",
   "name": "python",
   "nbconvert_exporter": "python",
   "pygments_lexer": "ipython3",
   "version": "3.7.2"
  }
 },
 "nbformat": 4,
 "nbformat_minor": 2
}
