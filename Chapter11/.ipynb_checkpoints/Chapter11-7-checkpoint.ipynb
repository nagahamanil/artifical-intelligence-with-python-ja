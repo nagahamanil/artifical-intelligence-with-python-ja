{
 "cells": [
  {
   "cell_type": "code",
   "execution_count": 1,
   "metadata": {},
   "outputs": [],
   "source": [
    "# p.271 11.7 CRFを用いたアルファベット列の識別\n",
    "import string\n",
    "import numpy as np\n",
    "from pystruct.datasets import load_letters\n",
    "from pystruct.models import ChainCRF\n",
    "from pystruct.learners import FrankWolfeSSVM"
   ]
  },
  {
   "cell_type": "code",
   "execution_count": 2,
   "metadata": {},
   "outputs": [],
   "source": [
    "class CRFModel(object):\n",
    "    def __init__(self, c_val=1.0):\n",
    "        self.clf = FrankWolfeSSVM(model=ChainCRF(),\n",
    "                                 C=c_val, max_iter=50)\n",
    "        \n",
    "    def load_data(self):\n",
    "        alphabets = load_letters()\n",
    "        X = np.array(alphabets['data'])\n",
    "        y = np.array(alphabets['labels'])\n",
    "        folds = alphabets['folds']\n",
    "        return X, y, folds\n",
    "    \n",
    "    def train(self, X_train, y_train):\n",
    "        self.clf.fit(X_train, y_train)\n",
    "        \n",
    "    def evaluate(self, X_test, y_test):\n",
    "        return self.clf.score(X_test, y_test)\n",
    "    \n",
    "    def classify(self, input_data):\n",
    "        return self.clf.predict(input_data)[0]"
   ]
  },
  {
   "cell_type": "code",
   "execution_count": 3,
   "metadata": {},
   "outputs": [],
   "source": [
    "def convert_to_letters(indices):\n",
    "    # 全アルファベットのnumpy配列を作る\n",
    "    alphabets = np.array(list(string.ascii_lowercase))\n",
    "    \n",
    "    # 入力インデックスに対応した文字を抽出する\n",
    "    output = np.take(alphabets, indices)\n",
    "    output = ' '.join(output)\n",
    "    \n",
    "    return output"
   ]
  },
  {
   "cell_type": "code",
   "execution_count": 4,
   "metadata": {},
   "outputs": [],
   "source": [
    "crf = CRFModel(1.0)"
   ]
  },
  {
   "cell_type": "code",
   "execution_count": 5,
   "metadata": {},
   "outputs": [
    {
     "name": "stdout",
     "output_type": "stream",
     "text": [
      "Training the CRF model...\n",
      "Accuracy score = 77.96%\n"
     ]
    }
   ],
   "source": [
    "X, y, folds = crf.load_data()\n",
    "X_train, X_test = X[folds == 1], X[folds != 1]\n",
    "y_train, y_test = y[folds == 1], y[folds != 1]\n",
    "\n",
    "print('Training the CRF model...')\n",
    "crf.train(X_train, y_train)\n",
    "\n",
    "score = crf.evaluate(X_test, y_test)\n",
    "print('Accuracy score =', str(round(score*100, 2)) + '%')"
   ]
  },
  {
   "cell_type": "code",
   "execution_count": 6,
   "metadata": {},
   "outputs": [
    {
     "name": "stdout",
     "output_type": "stream",
     "text": [
      "\n",
      "Original = r o j e c t i o n s\n",
      "Predicted = r o j e c t i o n g\n",
      "\n",
      "Original = u f f\n",
      "Predicted = u f r\n",
      "\n",
      "Original = k i i n g\n",
      "Predicted = k i i n g\n",
      "\n",
      "Original = e c o m p r e s s\n",
      "Predicted = e c o m e r t i g\n",
      "\n",
      "Original = u z z\n",
      "Predicted = v e x\n",
      "\n",
      "Original = p o i l i n g\n",
      "Predicted = a n i t i n g\n",
      "\n",
      "Original = u i z z i c a l l y\n",
      "Predicted = u z z z i c a l l y\n",
      "\n",
      "Original = o m p a r a t i v e l y\n",
      "Predicted = o m p a r a t i v e l y\n",
      "\n",
      "Original = a b u l o u s l y\n",
      "Predicted = a b u l o u a l y\n",
      "\n",
      "Original = o r m a l i z a t i o n\n",
      "Predicted = o r m a l i s a t i o n\n",
      "\n",
      "Original = a k e\n",
      "Predicted = a k a\n",
      "\n",
      "Original = a f e t e r i a\n",
      "Predicted = a t e t e r i a\n",
      "\n",
      "Original = o b b l e\n",
      "Predicted = o b b l e\n",
      "\n",
      "Original = h a d o w\n",
      "Predicted = h a b o w\n",
      "\n",
      "Original = n d u s t r i a l i z e d\n",
      "Predicted = n d u s q r i a l y l e d\n",
      "\n",
      "Original = y m p a t h e t i c a l l y\n",
      "Predicted = y m p n s h e t i c a l l y\n"
     ]
    }
   ],
   "source": [
    "indices = range(3000, len(y_test), 200)\n",
    "for index in indices:\n",
    "    print(\"\\nOriginal =\", convert_to_letters(y_test[index]))\n",
    "    predicted = crf.classify([X_test[index]])\n",
    "    print(\"Predicted =\", convert_to_letters(predicted))"
   ]
  }
 ],
 "metadata": {
  "kernelspec": {
   "display_name": "Python 3",
   "language": "python",
   "name": "python3"
  },
  "language_info": {
   "codemirror_mode": {
    "name": "ipython",
    "version": 3
   },
   "file_extension": ".py",
   "mimetype": "text/x-python",
   "name": "python",
   "nbconvert_exporter": "python",
   "pygments_lexer": "ipython3",
   "version": "3.6.8"
  }
 },
 "nbformat": 4,
 "nbformat_minor": 2
}
