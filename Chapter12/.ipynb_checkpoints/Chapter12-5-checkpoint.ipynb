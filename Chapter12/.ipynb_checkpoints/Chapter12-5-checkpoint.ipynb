{
 "cells": [
  {
   "cell_type": "code",
   "execution_count": 1,
   "metadata": {},
   "outputs": [],
   "source": [
    "# p.287 12.5 音楽生成のための音階合成\n",
    "import numpy as np\n",
    "from scipy.io.wavfile import write\n",
    "\n",
    "sampling_freq = 44100 # Hz\n",
    "\n",
    "def tone_synthesizer(freq, duration, amplitude=2**15 - 1):\n",
    "    time_axis = np.linspace(0, duration, int(duration * sampling_freq))\n",
    "    signal = amplitude * np.sin(2 * np.pi * freq * time_axis)\n",
    "    return signal.astype(np.int16)\n",
    "\n",
    "tone_map = {\n",
    "    \"A\": 440,\n",
    "    \"A#\": 466,\n",
    "    \"B\": 494,\n",
    "    \"C\": 523,\n",
    "    \"C#\": 554,\n",
    "    \"D\": 587,\n",
    "    \"D#\": 622,\n",
    "    \"E\": 659,\n",
    "    \"F\": 698,\n",
    "    \"F#\": 740,\n",
    "    \"G\": 784,\n",
    "    \"G#\": 831 \n",
    "}"
   ]
  },
  {
   "cell_type": "code",
   "execution_count": 2,
   "metadata": {},
   "outputs": [],
   "source": [
    "file_tone_single = 'generated_tone_single.wav'\n",
    "synthesized_tone = tone_synthesizer(tone_map['F'], 3)\n",
    "write(file_tone_single, sampling_freq, synthesized_tone)"
   ]
  },
  {
   "cell_type": "code",
   "execution_count": 3,
   "metadata": {},
   "outputs": [],
   "source": [
    "tone_sequence = [('G', 0.4), ('D', 0.5), ('F', 0.3), ('C', 0.6), ('A', 0.4)]\n",
    "\n",
    "signal = np.array([], dtype=np.int16)\n",
    "for tone_name, duration in tone_sequence:\n",
    "    freq = tone_map[tone_name]\n",
    "    synthesized_tone = tone_synthesizer(freq, duration)\n",
    "    signal = np.append(signal, synthesized_tone, axis=0)\n",
    "    \n",
    "file_tone_sequence = 'generated_tone_sequence.wav'\n",
    "write(file_tone_sequence, sampling_freq, signal)"
   ]
  }
 ],
 "metadata": {
  "kernelspec": {
   "display_name": "Python 3",
   "language": "python",
   "name": "python3"
  },
  "language_info": {
   "codemirror_mode": {
    "name": "ipython",
    "version": 3
   },
   "file_extension": ".py",
   "mimetype": "text/x-python",
   "name": "python",
   "nbconvert_exporter": "python",
   "pygments_lexer": "ipython3",
   "version": "3.6.8"
  }
 },
 "nbformat": 4,
 "nbformat_minor": 2
}
