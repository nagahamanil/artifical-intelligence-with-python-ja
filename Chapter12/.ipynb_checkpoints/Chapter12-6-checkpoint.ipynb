{
 "cells": [
  {
   "cell_type": "code",
   "execution_count": 1,
   "metadata": {},
   "outputs": [],
   "source": [
    "# p.288 12.6 音声特徴量の抽出\n",
    "import numpy as np\n",
    "import matplotlib.pyplot as plt\n",
    "from scipy.io import wavfile\n",
    "from python_speech_features import mfcc, logfbank\n",
    "%matplotlib inline"
   ]
  },
  {
   "cell_type": "code",
   "execution_count": 2,
   "metadata": {},
   "outputs": [
    {
     "name": "stderr",
     "output_type": "stream",
     "text": [
      "WARNING:root:frame length (1103) is greater than FFT size (512), frame will be truncated. Increase NFFT to avoid.\n"
     ]
    },
    {
     "name": "stdout",
     "output_type": "stream",
     "text": [
      "MFCC:\n",
      "Number of windows = 22\n",
      "Length of each feature = 13\n"
     ]
    }
   ],
   "source": [
    "sampling_freq, signal = wavfile.read('random_sound.wav')\n",
    "signal = signal[:10000]\n",
    "\n",
    "features_mfcc = mfcc(signal, sampling_freq)\n",
    "\n",
    "print('MFCC:\\nNumber of windows =', features_mfcc.shape[0])\n",
    "print('Length of each feature =', features_mfcc.shape[1])"
   ]
  },
  {
   "cell_type": "code",
   "execution_count": 3,
   "metadata": {},
   "outputs": [
    {
     "data": {
      "image/png": "[encoded data removed]",
      "text/plain": [
       "<Figure size 487.385x288 with 1 Axes>"
      ]
     },
     "metadata": {
      "needs_background": "light"
     },
     "output_type": "display_data"
    }
   ],
   "source": [
    "# MGCC特徴量を可視化\n",
    "features_mfcc = features_mfcc.T\n",
    "plt.matshow(features_mfcc)\n",
    "plt.title('MFCC')\n",
    "plt.show()"
   ]
  },
  {
   "cell_type": "code",
   "execution_count": 4,
   "metadata": {},
   "outputs": [
    {
     "name": "stderr",
     "output_type": "stream",
     "text": [
      "WARNING:root:frame length (1103) is greater than FFT size (512), frame will be truncated. Increase NFFT to avoid.\n"
     ]
    },
    {
     "name": "stdout",
     "output_type": "stream",
     "text": [
      "Filter bank:\n",
      "Number of windows = 22\n",
      "Length of each feature = 26\n"
     ]
    }
   ],
   "source": [
    "# フィルタバンクの特徴量を取り出して次元数とサイズを表示\n",
    "features_fb = logfbank(signal, sampling_freq)\n",
    "\n",
    "print('Filter bank:\\nNumber of windows =', features_fb.shape[0])\n",
    "print('Length of each feature =', features_fb.shape[1])"
   ]
  },
  {
   "cell_type": "code",
   "execution_count": 5,
   "metadata": {},
   "outputs": [
    {
     "data": {
      "image/png": "[encoded data removed]",
      "text/plain": [
       "<Figure size 288x340.364 with 1 Axes>"
      ]
     },
     "metadata": {
      "needs_background": "light"
     },
     "output_type": "display_data"
    }
   ],
   "source": [
    "features_fb = features_fb.T\n",
    "plt.matshow(features_fb)\n",
    "plt.title('Filter bank')\n",
    "plt.show()"
   ]
  },
  {
   "cell_type": "code",
   "execution_count": null,
   "metadata": {},
   "outputs": [],
   "source": []
  }
 ],
 "metadata": {
  "kernelspec": {
   "display_name": "Python 3",
   "language": "python",
   "name": "python3"
  },
  "language_info": {
   "codemirror_mode": {
    "name": "ipython",
    "version": 3
   },
   "file_extension": ".py",
   "mimetype": "text/x-python",
   "name": "python",
   "nbconvert_exporter": "python",
   "pygments_lexer": "ipython3",
   "version": "3.6.8"
  }
 },
 "nbformat": 4,
 "nbformat_minor": 2
}
