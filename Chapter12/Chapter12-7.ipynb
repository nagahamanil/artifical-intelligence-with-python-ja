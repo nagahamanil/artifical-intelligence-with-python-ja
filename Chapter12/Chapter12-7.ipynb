{
 "cells": [
  {
   "cell_type": "code",
   "execution_count": 1,
   "metadata": {},
   "outputs": [],
   "source": [
    "# p.292 12.7 発話語の認識\n",
    "import os\n",
    "import numpy as np\n",
    "from scipy.io import wavfile\n",
    "\n",
    "from hmmlearn import hmm\n",
    "from python_speech_features import mfcc\n",
    "\n",
    "class ModelHMM(object):\n",
    "    def __init__(self):\n",
    "        self.models = []\n",
    "        self.model = hmm.GaussianHMM(n_components=4,\n",
    "                                    covariance_type='diag', n_iter=1000)\n",
    "        \n",
    "    # モデルを訓練するメソッド\n",
    "    def train(self, training_data):\n",
    "        cur_model = self.model.fit(training_data)\n",
    "        self.models.append(cur_model)\n",
    "        \n",
    "    # 入力データに対するスコアを計算するメソッド\n",
    "    def compute_score(self, input_data):\n",
    "        return self.model.score(input_data)"
   ]
  },
  {
   "cell_type": "code",
   "execution_count": 2,
   "metadata": {},
   "outputs": [],
   "source": [
    "def train_model(training_files):\n",
    "    X = None\n",
    "    \n",
    "    for file in training_files:\n",
    "        sampling_freq, signal = wavfile.read(file)\n",
    "        features_mfcc = mfcc(signal, sampling_freq)\n",
    "        \n",
    "        if X is None:\n",
    "            X = features_mfcc\n",
    "        else:\n",
    "            X = np.append(X, features_mfcc, axis=0)\n",
    "            \n",
    "    model = ModelHMM()\n",
    "    model.train(X)\n",
    "    return model"
   ]
  },
  {
   "cell_type": "code",
   "execution_count": 3,
   "metadata": {},
   "outputs": [],
   "source": [
    "def build_models(wav_files):\n",
    "    speech_models = []\n",
    "    for label, files in wav_files.items():\n",
    "        model = train_model(files[:-1])\n",
    "        speech_models.append((model, label))\n",
    "    return speech_models"
   ]
  },
  {
   "cell_type": "code",
   "execution_count": 4,
   "metadata": {},
   "outputs": [],
   "source": [
    "def speech_recognition(speech_models, test_file):\n",
    "    sampling_freq, signal = wavfile.read(test_file)\n",
    "    features_mfcc = mfcc(signal, sampling_freq)\n",
    "    \n",
    "    scores = [model.compute_score(features_mfcc)\n",
    "             for model,_ in speech_models]\n",
    "    index = np.argmax(scores)\n",
    "    return speech_models[index][1]"
   ]
  },
  {
   "cell_type": "code",
   "execution_count": 5,
   "metadata": {},
   "outputs": [],
   "source": [
    "def run_tests(speech_models, wav_files):\n",
    "    for original_label, files in wav_files.items():\n",
    "        predicted_label = speech_recognition(speech_models, files[-1])\n",
    "        print('\\nOriginal: ', original_label)\n",
    "        print('Predicted:',predicted_label)"
   ]
  },
  {
   "cell_type": "code",
   "execution_count": 6,
   "metadata": {},
   "outputs": [
    {
     "name": "stdout",
     "output_type": "stream",
     "text": [
      "\n",
      "Original:  apple\n",
      "Predicted: apple\n",
      "\n",
      "Original:  kiwi\n",
      "Predicted: kiwi\n",
      "\n",
      "Original:  lime\n",
      "Predicted: lime\n",
      "\n",
      "Original:  banana\n",
      "Predicted: banana\n",
      "\n",
      "Original:  pineapple\n",
      "Predicted: pineapple\n",
      "\n",
      "Original:  orange\n",
      "Predicted: orange\n",
      "\n",
      "Original:  peach\n",
      "Predicted: peach\n"
     ]
    }
   ],
   "source": [
    "input_folder = 'data'\n",
    "\n",
    "wav_files = {}\n",
    "for root, dirs, files in os.walk(input_folder):\n",
    "    files = [file for file in files if file.endswith('.wav')]\n",
    "    if not files:\n",
    "        continue\n",
    "    label = files[0][:-6]\n",
    "    wav_files[label] = [os.path.join(root, file) for file in files]\n",
    "    \n",
    "speech_models = build_models(wav_files)\n",
    "run_tests(speech_models, wav_files)"
   ]
  }
 ],
 "metadata": {
  "kernelspec": {
   "display_name": "Python 3",
   "language": "python",
   "name": "python3"
  },
  "language_info": {
   "codemirror_mode": {
    "name": "ipython",
    "version": 3
   },
   "file_extension": ".py",
   "mimetype": "text/x-python",
   "name": "python",
   "nbconvert_exporter": "python",
   "pygments_lexer": "ipython3",
   "version": "3.6.8"
  }
 },
 "nbformat": 4,
 "nbformat_minor": 2
}
