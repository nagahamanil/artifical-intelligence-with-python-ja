{
 "cells": [
  {
   "cell_type": "code",
   "execution_count": 1,
   "metadata": {},
   "outputs": [],
   "source": [
    "# p.380 16.5 単層ニューラルネットによる画像分類\n",
    "import numpy as np\n",
    "from tensorflow.keras.models import Sequential\n",
    "from tensorflow.keras.layers import Dense, Flatten\n",
    "from tensorflow.keras.optimizers import SGD\n",
    "from tensorflow.keras.datasets import mnist"
   ]
  },
  {
   "cell_type": "code",
   "execution_count": 2,
   "metadata": {},
   "outputs": [],
   "source": [
    "(x_train, y_train), (x_test, y_test) = mnist.load_data()\n",
    "\n",
    "x_train = x_train / 255.0\n",
    "x_test = x_test /255.0\n",
    "\n",
    "y_train = np.eye(10)[y_train]\n",
    "y_test = np.eye(10)[y_test]"
   ]
  },
  {
   "cell_type": "code",
   "execution_count": 3,
   "metadata": {},
   "outputs": [
    {
     "name": "stdout",
     "output_type": "stream",
     "text": [
      "WARNING:tensorflow:From /Users/nagahamanil/.pyenv/versions/3.6.8/lib/python3.6/site-packages/tensorflow/python/ops/resource_variable_ops.py:435: colocate_with (from tensorflow.python.framework.ops) is deprecated and will be removed in a future version.\n",
      "Instructions for updating:\n",
      "Colocations handled automatically by placer.\n",
      "WARNING:tensorflow:From /Users/nagahamanil/.pyenv/versions/3.6.8/lib/python3.6/site-packages/tensorflow/python/ops/math_ops.py:3066: to_int32 (from tensorflow.python.ops.math_ops) is deprecated and will be removed in a future version.\n",
      "Instructions for updating:\n",
      "Use tf.cast instead.\n",
      "Epoch 1/100\n",
      " - 1s - loss: 0.3810 - acc: 0.8910\n",
      "Epoch 2/100\n",
      " - 1s - loss: 0.3047 - acc: 0.9128\n",
      "Epoch 3/100\n",
      " - 1s - loss: 0.2908 - acc: 0.9175\n",
      "Epoch 4/100\n",
      " - 1s - loss: 0.2846 - acc: 0.9204\n",
      "Epoch 5/100\n",
      " - 1s - loss: 0.2797 - acc: 0.9216\n",
      "Epoch 6/100\n",
      " - 1s - loss: 0.2749 - acc: 0.9226\n",
      "Epoch 7/100\n",
      " - 1s - loss: 0.2717 - acc: 0.9246\n",
      "Epoch 8/100\n",
      " - 1s - loss: 0.2695 - acc: 0.9248\n",
      "Epoch 9/100\n",
      " - 1s - loss: 0.2684 - acc: 0.9259\n",
      "Epoch 10/100\n",
      " - 1s - loss: 0.2666 - acc: 0.9246\n",
      "Epoch 11/100\n",
      " - 1s - loss: 0.2657 - acc: 0.9259\n",
      "Epoch 12/100\n",
      " - 1s - loss: 0.2637 - acc: 0.9263\n",
      "Epoch 13/100\n",
      " - 1s - loss: 0.2626 - acc: 0.9277\n",
      "Epoch 14/100\n",
      " - 1s - loss: 0.2620 - acc: 0.9273\n",
      "Epoch 15/100\n",
      " - 1s - loss: 0.2599 - acc: 0.9278\n",
      "Epoch 16/100\n",
      " - 1s - loss: 0.2600 - acc: 0.9276\n",
      "Epoch 17/100\n",
      " - 1s - loss: 0.2590 - acc: 0.9282\n",
      "Epoch 18/100\n",
      " - 1s - loss: 0.2579 - acc: 0.9277\n",
      "Epoch 19/100\n",
      " - 1s - loss: 0.2573 - acc: 0.9291\n",
      "Epoch 20/100\n",
      " - 1s - loss: 0.2562 - acc: 0.9283\n",
      "Epoch 21/100\n",
      " - 1s - loss: 0.2553 - acc: 0.9287\n",
      "Epoch 22/100\n",
      " - 1s - loss: 0.2561 - acc: 0.9296\n",
      "Epoch 23/100\n",
      " - 1s - loss: 0.2549 - acc: 0.9294\n",
      "Epoch 24/100\n",
      " - 1s - loss: 0.2551 - acc: 0.9292\n",
      "Epoch 25/100\n",
      " - 1s - loss: 0.2536 - acc: 0.9293\n",
      "Epoch 26/100\n",
      " - 1s - loss: 0.2527 - acc: 0.9294\n",
      "Epoch 27/100\n",
      " - 1s - loss: 0.2522 - acc: 0.9294\n",
      "Epoch 28/100\n",
      " - 1s - loss: 0.2516 - acc: 0.9300\n",
      "Epoch 29/100\n",
      " - 1s - loss: 0.2515 - acc: 0.9297\n",
      "Epoch 30/100\n",
      " - 1s - loss: 0.2509 - acc: 0.9305\n",
      "Epoch 31/100\n",
      " - 1s - loss: 0.2508 - acc: 0.9301\n",
      "Epoch 32/100\n",
      " - 1s - loss: 0.2508 - acc: 0.9306\n",
      "Epoch 33/100\n",
      " - 1s - loss: 0.2502 - acc: 0.9299\n",
      "Epoch 34/100\n",
      " - 1s - loss: 0.2497 - acc: 0.9303\n",
      "Epoch 35/100\n",
      " - 1s - loss: 0.2499 - acc: 0.9300\n",
      "Epoch 36/100\n",
      " - 1s - loss: 0.2489 - acc: 0.9304\n",
      "Epoch 37/100\n",
      " - 1s - loss: 0.2481 - acc: 0.9306\n",
      "Epoch 38/100\n",
      " - 1s - loss: 0.2487 - acc: 0.9301\n",
      "Epoch 39/100\n",
      " - 1s - loss: 0.2485 - acc: 0.9306\n",
      "Epoch 40/100\n",
      " - 1s - loss: 0.2478 - acc: 0.9314\n",
      "Epoch 41/100\n",
      " - 1s - loss: 0.2483 - acc: 0.9307\n",
      "Epoch 42/100\n",
      " - 1s - loss: 0.2473 - acc: 0.9314\n",
      "Epoch 43/100\n",
      " - 1s - loss: 0.2466 - acc: 0.9316\n",
      "Epoch 44/100\n",
      " - 1s - loss: 0.2466 - acc: 0.9308\n",
      "Epoch 45/100\n",
      " - 1s - loss: 0.2470 - acc: 0.9310\n",
      "Epoch 46/100\n",
      " - 1s - loss: 0.2463 - acc: 0.9309\n",
      "Epoch 47/100\n",
      " - 1s - loss: 0.2453 - acc: 0.9322\n",
      "Epoch 48/100\n",
      " - 1s - loss: 0.2458 - acc: 0.9318\n",
      "Epoch 49/100\n",
      " - 1s - loss: 0.2455 - acc: 0.9324\n",
      "Epoch 50/100\n",
      " - 1s - loss: 0.2455 - acc: 0.9318\n",
      "Epoch 51/100\n",
      " - 1s - loss: 0.2453 - acc: 0.9318\n",
      "Epoch 52/100\n",
      " - 1s - loss: 0.2451 - acc: 0.9319\n",
      "Epoch 53/100\n",
      " - 1s - loss: 0.2448 - acc: 0.9317\n",
      "Epoch 54/100\n",
      " - 1s - loss: 0.2432 - acc: 0.9316\n",
      "Epoch 55/100\n",
      " - 1s - loss: 0.2447 - acc: 0.9315\n",
      "Epoch 56/100\n",
      " - 1s - loss: 0.2436 - acc: 0.9326\n",
      "Epoch 57/100\n",
      " - 1s - loss: 0.2441 - acc: 0.9320\n",
      "Epoch 58/100\n",
      " - 1s - loss: 0.2444 - acc: 0.9320\n",
      "Epoch 59/100\n",
      " - 1s - loss: 0.2433 - acc: 0.9314\n",
      "Epoch 60/100\n",
      " - 1s - loss: 0.2436 - acc: 0.9315\n",
      "Epoch 61/100\n",
      " - 1s - loss: 0.2437 - acc: 0.9319\n",
      "Epoch 62/100\n",
      " - 1s - loss: 0.2431 - acc: 0.9320\n",
      "Epoch 63/100\n",
      " - 1s - loss: 0.2436 - acc: 0.9316\n",
      "Epoch 64/100\n",
      " - 1s - loss: 0.2425 - acc: 0.9321\n",
      "Epoch 65/100\n",
      " - 1s - loss: 0.2432 - acc: 0.9320\n",
      "Epoch 66/100\n",
      " - 1s - loss: 0.2430 - acc: 0.9330\n",
      "Epoch 67/100\n",
      " - 1s - loss: 0.2419 - acc: 0.9323\n",
      "Epoch 68/100\n",
      " - 1s - loss: 0.2426 - acc: 0.9317\n",
      "Epoch 69/100\n",
      " - 1s - loss: 0.2425 - acc: 0.9325\n",
      "Epoch 70/100\n",
      " - 1s - loss: 0.2418 - acc: 0.9323\n",
      "Epoch 71/100\n",
      " - 1s - loss: 0.2414 - acc: 0.9330\n",
      "Epoch 72/100\n",
      " - 1s - loss: 0.2419 - acc: 0.9328\n",
      "Epoch 73/100\n",
      " - 1s - loss: 0.2411 - acc: 0.9331\n",
      "Epoch 74/100\n",
      " - 1s - loss: 0.2415 - acc: 0.9322\n",
      "Epoch 75/100\n",
      " - 1s - loss: 0.2407 - acc: 0.9321\n",
      "Epoch 76/100\n",
      " - 1s - loss: 0.2415 - acc: 0.9322\n",
      "Epoch 77/100\n",
      " - 1s - loss: 0.2417 - acc: 0.9321\n",
      "Epoch 78/100\n",
      " - 1s - loss: 0.2415 - acc: 0.9324\n",
      "Epoch 79/100\n",
      " - 1s - loss: 0.2400 - acc: 0.9331\n",
      "Epoch 80/100\n",
      " - 1s - loss: 0.2411 - acc: 0.9332\n",
      "Epoch 81/100\n",
      " - 1s - loss: 0.2397 - acc: 0.9333\n",
      "Epoch 82/100\n",
      " - 1s - loss: 0.2396 - acc: 0.9329\n",
      "Epoch 83/100\n",
      " - 1s - loss: 0.2400 - acc: 0.9330\n",
      "Epoch 84/100\n",
      " - 1s - loss: 0.2410 - acc: 0.9329\n",
      "Epoch 85/100\n",
      " - 1s - loss: 0.2397 - acc: 0.9330\n",
      "Epoch 86/100\n",
      " - 1s - loss: 0.2395 - acc: 0.9323\n",
      "Epoch 87/100\n",
      " - 1s - loss: 0.2403 - acc: 0.9330\n",
      "Epoch 88/100\n",
      " - 1s - loss: 0.2405 - acc: 0.9322\n",
      "Epoch 89/100\n",
      " - 1s - loss: 0.2390 - acc: 0.9327\n",
      "Epoch 90/100\n",
      " - 1s - loss: 0.2399 - acc: 0.9332\n",
      "Epoch 91/100\n",
      " - 1s - loss: 0.2394 - acc: 0.9341\n",
      "Epoch 92/100\n",
      " - 1s - loss: 0.2390 - acc: 0.9330\n",
      "Epoch 93/100\n",
      " - 1s - loss: 0.2389 - acc: 0.9335\n",
      "Epoch 94/100\n",
      " - 1s - loss: 0.2394 - acc: 0.9331\n",
      "Epoch 95/100\n",
      " - 1s - loss: 0.2394 - acc: 0.9332\n",
      "Epoch 96/100\n",
      " - 1s - loss: 0.2389 - acc: 0.9325\n",
      "Epoch 97/100\n",
      " - 1s - loss: 0.2395 - acc: 0.9330\n",
      "Epoch 98/100\n",
      " - 1s - loss: 0.2385 - acc: 0.9334\n",
      "Epoch 99/100\n",
      " - 1s - loss: 0.2380 - acc: 0.9333\n",
      "Epoch 100/100\n",
      " - 1s - loss: 0.2388 - acc: 0.9334\n"
     ]
    }
   ],
   "source": [
    "model = Sequential([\n",
    "    Flatten(input_shape=(28, 28)),\n",
    "    Dense(10, activation='softmax')\n",
    "])\n",
    "\n",
    "model.compile(loss='categorical_crossentropy',\n",
    "             optimizer=SGD(0.5),\n",
    "             metrics=['accuracy'])\n",
    "\n",
    "history = model.fit(x_train, y_train, epochs=100, batch_size=75, verbose = 2)"
   ]
  },
  {
   "cell_type": "code",
   "execution_count": 4,
   "metadata": {},
   "outputs": [
    {
     "name": "stdout",
     "output_type": "stream",
     "text": [
      "Accuracy = 0.9235\n"
     ]
    }
   ],
   "source": [
    "score = model.evaluate(x_test, y_test, verbose=0)\n",
    "print('Accuracy =', score[1])"
   ]
  },
  {
   "cell_type": "code",
   "execution_count": 5,
   "metadata": {},
   "outputs": [
    {
     "data": {
      "image/png": "[encoded data removed]",
      "text/plain": [
       "<Figure size 72x72 with 1 Axes>"
      ]
     },
     "metadata": {},
     "output_type": "display_data"
    },
    {
     "data": {
      "image/png": "[encoded data removed]",
      "text/plain": [
       "<Figure size 72x72 with 1 Axes>"
      ]
     },
     "metadata": {},
     "output_type": "display_data"
    },
    {
     "data": {
      "image/png": "[encoded data removed]",
      "text/plain": [
       "<Figure size 72x72 with 1 Axes>"
      ]
     },
     "metadata": {},
     "output_type": "display_data"
    },
    {
     "data": {
      "image/png": "[encoded data removed]",
      "text/plain": [
       "<Figure size 72x72 with 1 Axes>"
      ]
     },
     "metadata": {},
     "output_type": "display_data"
    },
    {
     "data": {
      "image/png": "[encoded data removed]",
      "text/plain": [
       "<Figure size 72x72 with 1 Axes>"
      ]
     },
     "metadata": {},
     "output_type": "display_data"
    },
    {
     "data": {
      "image/png": "[encoded data removed]",
      "text/plain": [
       "<Figure size 72x72 with 1 Axes>"
      ]
     },
     "metadata": {},
     "output_type": "display_data"
    },
    {
     "data": {
      "image/png": "[encoded data removed]",
      "text/plain": [
       "<Figure size 72x72 with 1 Axes>"
      ]
     },
     "metadata": {},
     "output_type": "display_data"
    },
    {
     "data": {
      "image/png": "[encoded data removed]",
      "text/plain": [
       "<Figure size 72x72 with 1 Axes>"
      ]
     },
     "metadata": {},
     "output_type": "display_data"
    },
    {
     "data": {
      "image/png": "[encoded data removed]",
      "text/plain": [
       "<Figure size 72x72 with 1 Axes>"
      ]
     },
     "metadata": {},
     "output_type": "display_data"
    },
    {
     "data": {
      "image/png": "[encoded data removed]",
      "text/plain": [
       "<Figure size 72x72 with 1 Axes>"
      ]
     },
     "metadata": {},
     "output_type": "display_data"
    }
   ],
   "source": [
    "%matplotlib inline\n",
    "import matplotlib.pyplot as plt\n",
    "\n",
    "for i in range(10):\n",
    "    plt.figure(figsize=(1, 1))\n",
    "    \n",
    "    score = model.predict(x_test[i].reshape(1, 28, 28))\n",
    "    predicted = np.argmax(score)\n",
    "    answer = np.argmax(y_test[i])\n",
    "    \n",
    "    plt.title('Answer:' + str(answer) + ' Predicted:' + str(predicted))\n",
    "    plt.imshow(x_test[i].reshape(28, 28), cmap='gray')\n",
    "    plt.xticks(())\n",
    "    plt.yticks(())\n",
    "    plt.show()"
   ]
  }
 ],
 "metadata": {
  "kernelspec": {
   "display_name": "Python 3",
   "language": "python",
   "name": "python3"
  },
  "language_info": {
   "codemirror_mode": {
    "name": "ipython",
    "version": 3
   },
   "file_extension": ".py",
   "mimetype": "text/x-python",
   "name": "python",
   "nbconvert_exporter": "python",
   "pygments_lexer": "ipython3",
   "version": "3.6.8"
  }
 },
 "nbformat": 4,
 "nbformat_minor": 2
}
