{
 "cells": [
  {
   "cell_type": "code",
   "execution_count": 1,
   "metadata": {},
   "outputs": [],
   "source": [
    "# p.195 8.6 知的ロボット制御\n",
    "import copy\n",
    "import random\n",
    "from functools import partial\n",
    "import numpy as np\n",
    "from deap import algorithms, base, creator, tools, gp\n",
    "\n",
    "random.seed(7)\n",
    "\n",
    "class RobotController(object):\n",
    "    def __init__(self, max_moves):\n",
    "        self.max_moves = max_moves\n",
    "        self.direction = [\"north\", \"east\", \"south\", \"west\"]\n",
    "        self.direction_row = [1, 0, -1, 0]\n",
    "        self.direction_col = [0, 1, 0, -1]\n",
    "        \n",
    "    def _reset(self):\n",
    "        self.row = self.row_start\n",
    "        self.cor = self.col_start\n",
    "        self.direction = 1\n",
    "        self.moves = 0\n",
    "        self.consumed = 0\n",
    "        self.matrix_exc = copy.deepcopy(self.matrix)\n",
    "        self.routine = None\n",
    "        \n",
    "    def turn_left(self):\n",
    "        if self.moves < self.max_moves:\n",
    "            self.moves += 1\n",
    "            self.direction = (self.direction -1) % 4\n",
    "            \n",
    "    def turn_right(self):\n",
    "        if self.moves < self.max_moves:\n",
    "            self.moves += 1\n",
    "            self.direction = (self.direction + 1) % 4\n",
    "        \n",
    "    def move_forward(self):\n",
    "        if self.moves < self.max_moves:\n",
    "            self.moves += 1\n",
    "            self.row = (self.row + self.direction_row[self.direction]) % self.matrix_row\n",
    "            self.col = (self.col + self.direction_col[self.direction]) % self.matrix_col\n",
    "            \n",
    "            if self.matrix_exc[self.row][self.col] == \"target\":\n",
    "                self.consumed += 1\n",
    "                \n",
    "            self.matrix_exc[self.row][self.col] = \"passed\"\n",
    "            \n",
    "    def _conditional(self, condition, out1, out2):\n",
    "        if condition():\n",
    "            out1()\n",
    "        else:\n",
    "            out2()\n",
    "            \n",
    "    def sense_target(self):\n",
    "        ahead_row = (self.row + self.direction_row[self.direction]) % self.matrix_row\n",
    "        ahead_col = (self.col + self.direction_col[self.direction]) % self.matrix_col\n",
    "        return self.matrix_exc[ahead_row][ahead_col] == \"target\"\n",
    "    \n",
    "    def if_target_ahead(self, out1, out2):\n",
    "        return partial(self._conditional, self.sense_target, out1, out2)\n",
    "    \n",
    "    def _progn(self, *args):\n",
    "        for arg in args:\n",
    "            arg()\n",
    "            \n",
    "    def prog2(self, out1, out2):\n",
    "        return partial(self._progn, out1, out2)\n",
    "    \n",
    "    def prog3(self, out1, out2, out3):\n",
    "        return partial(self._progn, out1, out2, out3)\n",
    "    \n",
    "    def run(self, routine):\n",
    "        self._reset()\n",
    "        while self.moves < self.max_moves:\n",
    "            routine()\n",
    "    \n",
    "    def traverse_map(self, matrix):\n",
    "        self.matrix = list()\n",
    "        for i, line in enumerate(matrix):\n",
    "            self.matrix.append(list())\n",
    "            \n",
    "            for j, col in enumerate(line):\n",
    "                if col == \"#\":\n",
    "                    self.matrix[-1].append(\"target\")\n",
    "                    \n",
    "                elif col == \".\":\n",
    "                    self.matrix[-1].append(\"empty\")\n",
    "                    \n",
    "                elif col == \"S\":\n",
    "                    self.matrix[-1].append(\"empty\")\n",
    "                    self.row_start = self.row = i\n",
    "                    self.col_start = self.col = j\n",
    "                    self.direction = 1\n",
    "                    \n",
    "        self.matrix_row = len(self.matrix)\n",
    "        self.matrix_col = len(self.matrix[0])    "
   ]
  },
  {
   "cell_type": "code",
   "execution_count": 2,
   "metadata": {},
   "outputs": [],
   "source": [
    "# 最大移動回数\n",
    "max_moves = 750\n",
    "\n",
    "# ロボット制御オブジェクトを生成\n",
    "robot = RobotController(max_moves)"
   ]
  },
  {
   "cell_type": "code",
   "execution_count": 3,
   "metadata": {},
   "outputs": [],
   "source": [
    "with open('target_map.txt', 'r') as f:\n",
    "    robot.traverse_map(f)"
   ]
  },
  {
   "cell_type": "code",
   "execution_count": 4,
   "metadata": {},
   "outputs": [],
   "source": [
    "def eval_func(individual):\n",
    "    # 個体をPythonコードに変換して実行する。\n",
    "    routine = gp.compile(individual, pset)\n",
    "    robot.run(routine)\n",
    "    return (robot.consumed,)"
   ]
  },
  {
   "cell_type": "code",
   "execution_count": 5,
   "metadata": {},
   "outputs": [],
   "source": [
    "pset = gp.PrimitiveSet(\"MAIN\", 0)\n",
    "pset.addPrimitive(robot.if_target_ahead, 2)\n",
    "pset.addPrimitive(robot.prog2, 2)\n",
    "pset.addPrimitive(robot.prog3, 3)\n",
    "pset.addTerminal(robot.move_forward)\n",
    "pset.addTerminal(robot.turn_left)\n",
    "pset.addTerminal(robot.turn_right)"
   ]
  },
  {
   "cell_type": "code",
   "execution_count": 6,
   "metadata": {},
   "outputs": [],
   "source": [
    "creator.create(\"FitnessMax\", base.Fitness, weights=(1.0,))\n",
    "creator.create(\"Individual\", gp.PrimitiveTree, fitness=creator.FitnessMax)\n",
    "\n",
    "toolbox = base.Toolbox()\n",
    "\n",
    "# 属性を生成\n",
    "toolbox.register(\"expr_init\", gp.genFull, pset=pset, min_=1, max_=2)\n",
    "\n",
    "# 構造を初期化\n",
    "toolbox.register(\"individual\", tools.initIterate, creator.Individual,\n",
    "                toolbox.expr_init)\n",
    "toolbox.register(\"population\", tools.initRepeat, list, toolbox.individual)\n",
    "\n",
    "toolbox.register(\"evaluate\", eval_func)\n",
    "toolbox.register(\"select\", tools.selTournament, tournsize=7)\n",
    "toolbox.register(\"mate\", gp.cxOnePoint)\n",
    "toolbox.register(\"expr_mut\", gp.genFull, min_=0, max_=2)\n",
    "toolbox.register(\"mutate\", gp.mutUniform, expr=toolbox.expr_mut, pset=pset)"
   ]
  },
  {
   "cell_type": "code",
   "execution_count": 7,
   "metadata": {},
   "outputs": [],
   "source": [
    "population = toolbox.population(n=400)\n",
    "hall_of_fame = tools.HallOfFame(1)"
   ]
  },
  {
   "cell_type": "code",
   "execution_count": 8,
   "metadata": {},
   "outputs": [],
   "source": [
    "stats = tools.Statistics(lambda x: x.fitness.values)\n",
    "stats.register(\"avg\", np.mean)\n",
    "stats.register(\"std\", np.std)\n",
    "stats.register(\"min\", np.min)\n",
    "stats.register(\"max\", np.max)"
   ]
  },
  {
   "cell_type": "code",
   "execution_count": 9,
   "metadata": {},
   "outputs": [],
   "source": [
    "probab_crossover = 0.4\n",
    "probab_mutate = 0.3\n",
    "num_generations = 50"
   ]
  },
  {
   "cell_type": "code",
   "execution_count": 10,
   "metadata": {},
   "outputs": [
    {
     "name": "stdout",
     "output_type": "stream",
     "text": [
      "gen\tnevals\tavg   \tstd    \tmin\tmax\n",
      "0  \t400   \t1.2675\t3.03331\t0  \t36 \n",
      "1  \t225   \t3.8225\t6.46266\t0  \t56 \n",
      "2  \t242   \t7.705 \t10.8951\t0  \t64 \n",
      "3  \t232   \t14.6725\t16.0125\t0  \t64 \n",
      "4  \t238   \t22.6925\t21.9484\t0  \t70 \n",
      "5  \t232   \t31.7175\t25.5374\t0  \t74 \n",
      "6  \t246   \t33.7325\t28.1986\t0  \t79 \n",
      "7  \t240   \t39.98  \t29.9497\t0  \t88 \n",
      "8  \t240   \t43.5275\t31.9486\t0  \t93 \n",
      "9  \t233   \t48.9175\t34.2232\t0  \t93 \n",
      "10 \t225   \t53.3875\t35.8906\t0  \t93 \n",
      "11 \t226   \t57.885 \t36.5517\t0  \t97 \n",
      "12 \t220   \t58.5925\t38.3405\t0  \t97 \n",
      "13 \t246   \t54.2675\t38.9124\t0  \t97 \n",
      "14 \t229   \t56.51  \t39.3327\t0  \t97 \n",
      "15 \t235   \t57.5225\t39.13  \t0  \t97 \n",
      "16 \t224   \t62.855 \t38.3925\t0  \t97 \n",
      "17 \t232   \t63.77  \t38.6259\t0  \t97 \n",
      "18 \t226   \t61.42  \t40.4925\t0  \t97 \n",
      "19 \t265   \t56.8625\t39.4945\t0  \t97 \n",
      "20 \t227   \t60.08  \t40.0787\t0  \t97 \n",
      "21 \t254   \t59.015 \t39.9547\t0  \t97 \n",
      "22 \t245   \t60.94  \t39.2276\t0  \t97 \n",
      "23 \t236   \t60.64  \t39.8586\t0  \t97 \n",
      "24 \t231   \t61.435 \t40.069 \t0  \t97 \n",
      "25 \t229   \t65.1675\t38.0627\t0  \t97 \n",
      "26 \t234   \t60.705 \t40.1159\t0  \t97 \n",
      "27 \t229   \t62.585 \t39.8917\t0  \t97 \n",
      "28 \t237   \t62.7625\t38.6897\t0  \t97 \n",
      "29 \t229   \t62.2575\t39.8665\t0  \t97 \n",
      "30 \t240   \t59.1775\t40.545 \t0  \t97 \n",
      "31 \t232   \t61.435 \t39.9308\t0  \t97 \n",
      "32 \t204   \t66.775 \t38.3157\t0  \t97 \n",
      "33 \t240   \t62.3525\t39.543 \t0  \t97 \n",
      "34 \t271   \t55.895 \t40.382 \t0  \t97 \n",
      "35 \t233   \t61.8325\t39.0176\t0  \t98 \n",
      "36 \t246   \t62.1425\t38.3265\t0  \t98 \n",
      "37 \t246   \t61.515 \t39.2358\t0  \t98 \n",
      "38 \t236   \t61.0425\t39.455 \t0  \t98 \n",
      "39 \t238   \t60.875 \t39.9846\t0  \t98 \n",
      "40 \t242   \t62.8425\t38.084 \t0  \t98 \n",
      "41 \t234   \t63.055 \t38.5537\t0  \t98 \n",
      "42 \t238   \t62.8425\t38.248 \t0  \t98 \n",
      "43 \t228   \t65.2225\t37.7116\t0  \t98 \n",
      "44 \t237   \t62.515 \t39.1774\t0  \t98 \n",
      "45 \t232   \t63.6875\t38.4729\t0  \t98 \n",
      "46 \t227   \t62.97  \t39.2318\t0  \t98 \n",
      "47 \t223   \t65.17  \t38.3598\t0  \t98 \n",
      "48 \t235   \t63.535 \t38.5096\t0  \t98 \n",
      "49 \t228   \t63.3625\t38.9328\t0  \t98 \n",
      "50 \t240   \t62.215 \t38.7558\t0  \t98 \n"
     ]
    }
   ],
   "source": [
    "population, log = algorithms.eaSimple(population, toolbox, probab_crossover,\n",
    "                                     probab_mutate, num_generations, stats,\n",
    "                                     halloffame=hall_of_fame)"
   ]
  },
  {
   "cell_type": "code",
   "execution_count": 11,
   "metadata": {},
   "outputs": [
    {
     "name": "stdout",
     "output_type": "stream",
     "text": [
      "prog2(move_forward, prog3(if_target_ahead(move_forward, turn_left), if_target_ahead(if_target_ahead(prog2(move_forward, move_forward), turn_left), prog3(move_forward, move_forward, move_forward)), if_target_ahead(move_forward, turn_right)))\n"
     ]
    }
   ],
   "source": [
    "print(hall_of_fame[0])"
   ]
  }
 ],
 "metadata": {
  "kernelspec": {
   "display_name": "Python 3",
   "language": "python",
   "name": "python3"
  },
  "language_info": {
   "codemirror_mode": {
    "name": "ipython",
    "version": 3
   },
   "file_extension": ".py",
   "mimetype": "text/x-python",
   "name": "python",
   "nbconvert_exporter": "python",
   "pygments_lexer": "ipython3",
   "version": "3.7.2"
  }
 },
 "nbformat": 4,
 "nbformat_minor": 2
}
