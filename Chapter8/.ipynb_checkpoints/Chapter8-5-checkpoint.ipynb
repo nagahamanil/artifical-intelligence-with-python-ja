{
 "cells": [
  {
   "cell_type": "code",
   "execution_count": 1,
   "metadata": {},
   "outputs": [
    {
     "name": "stdout",
     "output_type": "stream",
     "text": [
      "   \t      \t            fitness            \t              size             \n",
      "   \t      \t-------------------------------\t-------------------------------\n",
      "gen\tnevals\tavg    \tmax    \tmin    \tstd    \tavg    \tmax\tmin\tstd    \n",
      "0  \t450   \t18.6918\t47.1923\t7.39087\t6.27543\t3.73556\t7  \t2  \t1.62449\n",
      "1  \t251   \t15.4572\t41.3823\t4.46965\t4.54993\t3.80222\t12 \t1  \t1.81316\n",
      "2  \t236   \t13.2545\t37.7223\t4.46965\t4.06145\t3.96889\t12 \t1  \t1.98861\n",
      "3  \t251   \t12.2299\t60.828 \t4.46965\t4.70055\t4.19556\t12 \t1  \t1.9971 \n",
      "4  \t235   \t11.001 \t47.1923\t4.46965\t4.48841\t4.84222\t13 \t1  \t2.17245\n",
      "5  \t229   \t9.44483\t31.478 \t4.46965\t3.8796 \t5.56   \t19 \t1  \t2.43168\n",
      "6  \t225   \t8.35975\t22.0546\t3.02133\t3.40547\t6.38889\t15 \t1  \t2.40875\n",
      "7  \t237   \t7.99309\t31.1356\t1.81133\t4.08463\t7.14667\t16 \t1  \t2.57782\n",
      "8  \t224   \t7.42611\t359.418\t1.17558\t17.0167\t8.33333\t19 \t1  \t3.11127\n",
      "9  \t237   \t5.70308\t24.1921\t1.17558\t3.71991\t9.64444\t23 \t1  \t3.31365\n",
      "10 \t254   \t5.27991\t30.4315\t1.13301\t4.13556\t10.5089\t25 \t1  \t3.51898\n",
      "11 \t223   \t4.26809\t18.7774\t0.841562\t3.16748\t11.42  \t25 \t1  \t3.69613\n",
      "12 \t249   \t4.0672 \t20.6729\t0.686362\t3.50578\t12.34  \t27 \t1  \t4.34843\n",
      "13 \t242   \t5.78507\t1060   \t0.841562\t49.873 \t13.4089\t27 \t1  \t4.24912\n",
      "14 \t221   \t3.28494\t26.6665\t0.841562\t3.31483\t14.1556\t37 \t1  \t4.62772\n",
      "15 \t243   \t2.98754\t42.7003\t0.756579\t3.43806\t14.8689\t29 \t1  \t4.28363\n",
      "16 \t258   \t3.1341 \t70.8279\t0.61024 \t4.75699\t15.26  \t30 \t1  \t4.46631\n",
      "17 \t223   \t5.34041\t1059.66\t0.61024 \t49.8772\t15.8733\t44 \t1  \t5.03847\n",
      "18 \t229   \t4.53387\t776.269\t0.508052\t36.5925\t16.8667\t39 \t1  \t4.7949 \n",
      "19 \t204   \t2.65489\t41.3823\t0.508052\t3.76843\t16.84  \t31 \t1  \t4.3814 \n",
      "20 \t222   \t2.63441\t28.3123\t0.113042\t3.65431\t17.7267\t46 \t1  \t4.91062\n",
      "21 \t223   \t2.2272 \t26.038 \t0.113042\t3.10943\t18.9289\t41 \t1  \t4.90254\n",
      "22 \t227   \t2.21592\t58.3649\t0.113042\t3.93487\t19.6133\t41 \t1  \t4.79275\n",
      "23 \t244   \t2.2172 \t21.6536\t0.113042\t3.31138\t19.78  \t38 \t1  \t4.52873\n",
      "24 \t237   \t2.19195\t22.0546\t0.113042\t3.49711\t20.3422\t37 \t1  \t4.47296\n",
      "25 \t223   \t1.95396\t29.6646\t0.113042\t3.52879\t20.4956\t36 \t1  \t4.42329\n",
      "26 \t246   \t1.94503\t86.1329\t0.113042\t4.96868\t21.3867\t39 \t1  \t4.79322\n",
      "27 \t236   \t1.80352\t22.9113\t0.113042\t3.0955 \t21.78  \t41 \t1  \t4.5683 \n",
      "28 \t245   \t1.59749\t20.6729\t0.0601253\t2.90415\t21.9333\t36 \t1  \t4.18834\n",
      "29 \t205   \t1.45095\t37.0156\t0.0509541\t3.35453\t22.6844\t41 \t1  \t4.09585\n",
      "30 \t239   \t1.79087\t49.9667\t0.0509541\t4.05304\t22.5711\t40 \t1  \t4.70135\n",
      "31 \t250   \t1.88413\t28.4646\t0.0509541\t3.90833\t23.0111\t41 \t1  \t5.34352\n",
      "32 \t248   \t1.37476\t16.4446\t0.0509541\t2.50597\t23.7689\t44 \t1  \t5.23067\n",
      "33 \t239   \t1.446  \t22.0546\t0.0509541\t3.16672\t24.2289\t44 \t1  \t5.44129\n",
      "34 \t244   \t1.50939\t23.658 \t0.0474957\t3.21624\t24.7556\t47 \t1  \t5.41215\n",
      "35 \t209   \t0.956873\t16.548 \t0.0474957\t2.06747\t25.66  \t44 \t1  \t4.5154 \n",
      "36 \t209   \t1.10464 \t22.0546\t0.0474957\t2.71898\t26.4867\t46 \t1  \t5.23289\n",
      "37 \t258   \t1.61958 \t86.0936\t0.0382386\t6.1839 \t27.2111\t45 \t3  \t4.75557\n",
      "38 \t257   \t2.03651 \t70.4768\t0.0342642\t5.15243\t26.5311\t49 \t1  \t6.22327\n",
      "39 \t235   \t1.95531 \t185.328\t0.0472693\t9.32516\t26.9711\t48 \t1  \t6.00345\n",
      "40 \t234   \t1.51403 \t28.5529\t0.0472693\t3.24513\t26.6867\t52 \t1  \t5.39811\n",
      "41 \t230   \t1.4753  \t70.4768\t0.0472693\t5.4607 \t27.1   \t46 \t3  \t4.7433 \n",
      "42 \t233   \t12.3648 \t4880.09\t0.0396503\t229.754\t26.88  \t53 \t1  \t5.18192\n",
      "43 \t251   \t1.807   \t86.0936\t0.0396503\t5.85281\t26.4889\t50 \t1  \t5.43741\n",
      "44 \t236   \t9.30096 \t3481.25\t0.0277886\t163.888\t26.9622\t55 \t1  \t6.27169\n",
      "45 \t231   \t1.73196 \t86.7372\t0.0342642\t6.8119 \t27.4711\t51 \t2  \t5.27807\n",
      "46 \t227   \t1.86086 \t185.328\t0.0342642\t10.1143\t28.0644\t56 \t1  \t6.10812\n",
      "47 \t216   \t12.5214 \t4923.66\t0.0342642\t231.837\t29.1022\t54 \t1  \t6.45898\n",
      "48 \t232   \t14.3469 \t5830.89\t0.0322462\t274.536\t29.8244\t58 \t3  \t6.24093\n",
      "49 \t242   \t2.56984 \t272.833\t0.0322462\t18.2752\t29.9267\t51 \t1  \t6.31446\n",
      "50 \t227   \t2.80136 \t356.613\t0.0322462\t21.0416\t29.7978\t56 \t4  \t6.50275\n",
      "51 \t243   \t1.75099 \t86.0936\t0.0322462\t5.70833\t29.8089\t56 \t1  \t6.62379\n",
      "52 \t253   \t10.9184 \t3435.84\t0.0227048\t163.602\t29.9911\t55 \t1  \t6.66833\n",
      "53 \t243   \t1.80265 \t48.0418\t0.0227048\t4.73856\t29.88  \t55 \t1  \t7.33084\n",
      "54 \t234   \t1.74487 \t86.0936\t0.0227048\t6.0249 \t30.6067\t55 \t1  \t6.85782\n",
      "55 \t220   \t1.58888 \t31.094 \t0.0132398\t3.82809\t30.5644\t54 \t1  \t6.96669\n",
      "56 \t234   \t1.46711 \t103.287\t0.00766444\t6.81157\t30.6689\t55 \t3  \t6.6806 \n",
      "57 \t250   \t17.0896 \t6544.17\t0.00424267\t308.689\t31.1267\t60 \t4  \t7.25837\n",
      "58 \t231   \t1.66757 \t141.584\t0.00144401\t7.35306\t32     \t52 \t1  \t7.23295\n",
      "59 \t229   \t2.22325 \t265.224\t0.00144401\t13.388 \t33.5489\t64 \t1  \t8.38351\n",
      "60 \t248   \t2.60303 \t521.804\t0.00144401\t24.7018\t35.2533\t58 \t1  \t7.61506\n"
     ]
    }
   ],
   "source": [
    "# p.190 8.5 関数同定問題の解法\n",
    "import operator\n",
    "import math\n",
    "import random\n",
    "import numpy as np\n",
    "from deap import algorithms, base, creator, tools, gp\n",
    "\n",
    "random.seed(7)\n",
    "\n",
    "def target_func(x):\n",
    "    return 2 * x**3 - 3 * x**2 + 4 * x - 1\n",
    "\n",
    "def eval_func(individual, points):\n",
    "    # 数式を関数形式に変換\n",
    "    func = toolbox.compile(expr=individual)\n",
    "    \n",
    "    mse = ((func(x) - target_func(x))**2 for x in points)\n",
    "    return (math.fsum(mse) / len(points),)\n",
    "\n",
    "def division_operator(numerator, denominator):\n",
    "    if denominator == 0:\n",
    "        return 1\n",
    "    return numerator / denominator\n",
    "\n",
    "pset = gp.PrimitiveSet(\"MAIN\", 1)\n",
    "pset.addPrimitive(operator.add, 2)\n",
    "pset.addPrimitive(operator.sub, 2)\n",
    "pset.addPrimitive(operator.mul, 2)\n",
    "pset.addPrimitive(division_operator, 2)\n",
    "pset.addPrimitive(operator.neg, 1)\n",
    "pset.addPrimitive(math.cos, 1)\n",
    "pset.addPrimitive(math.sin, 1)\n",
    "\n",
    "pset.addEphemeralConstant(\"rand101\", lambda: random.randint(-1, 1))\n",
    "pset.renameArguments(ARG0='x')\n",
    "\n",
    "creator.create(\"FitnessMin\", base.Fitness, weights=(-1.0,))\n",
    "creator.create(\"Individual\", gp.PrimitiveTree, fitness=creator.FitnessMin)\n",
    "\n",
    "toolbox = base.Toolbox()\n",
    "\n",
    "toolbox.register(\"expr\", gp.genHalfAndHalf, pset=pset, min_=1, max_=2)\n",
    "toolbox.register(\"individual\", tools.initIterate, creator.Individual, toolbox.expr)\n",
    "toolbox.register(\"population\", tools.initRepeat, list, toolbox.individual)\n",
    "toolbox.register(\"compile\", gp.compile, pset=pset)\n",
    "toolbox.register(\"evaluate\", eval_func,\n",
    "                points=[x/10. for x in range(-10, 10)])\n",
    "toolbox.register(\"select\", tools.selTournament, tournsize=3)\n",
    "toolbox.register(\"mate\", gp.cxOnePoint)\n",
    "toolbox.register(\"expr_mut\", gp.genFull, min_=0, max_=2)\n",
    "toolbox.register(\"mutate\", gp.mutUniform, expr=toolbox.expr_mut, pset=pset)\n",
    "toolbox.decorate(\"mate\", gp.staticLimit(key=operator.attrgetter(\"height\"), max_value=17))\n",
    "toolbox.decorate(\"mutate\", gp.staticLimit(key=operator.attrgetter(\"height\"), max_value=17))\n",
    "\n",
    "population = toolbox.population(n=450)\n",
    "hall_of_fame = tools.HallOfFame(1)\n",
    "\n",
    "stats_fit = tools.Statistics(lambda x: x.fitness.values)\n",
    "stats_size = tools.Statistics(len)\n",
    "\n",
    "mstats = tools.MultiStatistics(fitness=stats_fit, size=stats_size)\n",
    "mstats.register(\"avg\", np.mean)\n",
    "mstats.register(\"std\", np.std)\n",
    "mstats.register(\"min\", np.min)\n",
    "mstats.register(\"max\", np.max)\n",
    "\n",
    "probab_crossover = 0.4\n",
    "probab_mutate = 0.2\n",
    "num_generations = 60\n",
    "\n",
    "population, log = algorithms.eaSimple(population, toolbox, \n",
    "        probab_crossover, probab_mutate, num_generations, \n",
    "        stats=mstats, halloffame=hall_of_fame, verbose=True)"
   ]
  },
  {
   "cell_type": "code",
   "execution_count": 2,
   "metadata": {},
   "outputs": [
    {
     "name": "stdout",
     "output_type": "stream",
     "text": [
      "add(add(sub(add(add(sin(x), division_operator(x, cos(x))), add(x, x)), 1), x), neg(mul(x, sub(add(x, add(x, sub(cos(sub(0, x)), sub(0, x)))), mul(x, x)))))\n"
     ]
    }
   ],
   "source": [
    "print(hall_of_fame[0])"
   ]
  },
  {
   "cell_type": "code",
   "execution_count": 3,
   "metadata": {},
   "outputs": [
    {
     "data": {
      "image/png": "[encoded data removed]",
      "text/plain": [
       "<Figure size 432x288 with 1 Axes>"
      ]
     },
     "metadata": {
      "needs_background": "light"
     },
     "output_type": "display_data"
    }
   ],
   "source": [
    "%matplotlib inline\n",
    "import matplotlib.pyplot as plt\n",
    "f = toolbox.compile(expr=hall_of_fame[0])\n",
    "xs = [x/10.0 for x in range(-20, 21)]\n",
    "ys = [f(x) for x in xs]\n",
    "ts = [target_func(x) for x in xs]\n",
    "plt.figure()\n",
    "plt.plot(xs, ys)\n",
    "plt.plot(xs, ts)\n",
    "plt.grid(True)\n",
    "plt.show()"
   ]
  },
  {
   "cell_type": "code",
   "execution_count": null,
   "metadata": {},
   "outputs": [],
   "source": []
  },
  {
   "cell_type": "code",
   "execution_count": null,
   "metadata": {},
   "outputs": [],
   "source": []
  },
  {
   "cell_type": "code",
   "execution_count": null,
   "metadata": {},
   "outputs": [],
   "source": []
  },
  {
   "cell_type": "code",
   "execution_count": null,
   "metadata": {},
   "outputs": [],
   "source": []
  },
  {
   "cell_type": "code",
   "execution_count": null,
   "metadata": {},
   "outputs": [],
   "source": []
  },
  {
   "cell_type": "code",
   "execution_count": null,
   "metadata": {},
   "outputs": [],
   "source": []
  },
  {
   "cell_type": "code",
   "execution_count": null,
   "metadata": {},
   "outputs": [],
   "source": []
  },
  {
   "cell_type": "code",
   "execution_count": null,
   "metadata": {},
   "outputs": [],
   "source": []
  },
  {
   "cell_type": "code",
   "execution_count": null,
   "metadata": {},
   "outputs": [],
   "source": []
  },
  {
   "cell_type": "code",
   "execution_count": null,
   "metadata": {},
   "outputs": [],
   "source": []
  }
 ],
 "metadata": {
  "kernelspec": {
   "display_name": "Python 3",
   "language": "python",
   "name": "python3"
  },
  "language_info": {
   "codemirror_mode": {
    "name": "ipython",
    "version": 3
   },
   "file_extension": ".py",
   "mimetype": "text/x-python",
   "name": "python",
   "nbconvert_exporter": "python",
   "pygments_lexer": "ipython3",
   "version": "3.7.2"
  }
 },
 "nbformat": 4,
 "nbformat_minor": 2
}
