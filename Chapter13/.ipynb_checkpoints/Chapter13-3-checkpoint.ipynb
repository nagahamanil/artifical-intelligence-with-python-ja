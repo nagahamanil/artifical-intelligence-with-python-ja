{
 "cells": [
  {
   "cell_type": "code",
   "execution_count": 1,
   "metadata": {},
   "outputs": [],
   "source": [
    "# p.300 13.3 フレーム差分\n",
    "import cv2\n",
    "import IPython.display\n",
    "\n",
    "def show_image(image):\n",
    "    _, png = cv2.imencode('.png', image)\n",
    "    i = IPython.display.Image(data=png)\n",
    "    IPython.display.clear_output(wait=True)\n",
    "    IPython.display.display(i)\n",
    "    \n",
    "def get_frame(cap, scalling_factor):\n",
    "    r, frame = cap.read()\n",
    "    if not r: return None\n",
    "    frame = cv2.resize(frame, None,\n",
    "                      fx=scalling_factor, fy=scalling_factor,\n",
    "                      interpolation=cv2.INTER_AREA)\n",
    "    return frame"
   ]
  },
  {
   "cell_type": "code",
   "execution_count": 2,
   "metadata": {},
   "outputs": [],
   "source": [
    "def frame_diff(prev_frame, cur_frame, next_frame):\n",
    "    diff_frames_1 = cv2.absdiff(next_frame, cur_frame)\n",
    "    diff_frames_2 = cv2.absdiff(cur_frame, prev_frame)\n",
    "    return cv2.bitwise_and(diff_frames_1, diff_frames_2)"
   ]
  },
  {
   "cell_type": "code",
   "execution_count": 3,
   "metadata": {},
   "outputs": [],
   "source": [
    "def get_gray_frame(cap,scaling_factor):\n",
    "    frame = get_frame(cap, scaling_factor)\n",
    "    if frame is None: return None\n",
    "    gray = cv2.cvtColor(frame, cv2.COLOR_BGR2GRAY)\n",
    "    return gray"
   ]
  },
  {
   "cell_type": "code",
   "execution_count": 4,
   "metadata": {},
   "outputs": [],
   "source": [
    "cap = cv2.VideoCapture('bbb.mp4')\n",
    "scaling_factor = 1\n",
    "\n",
    "prev_frame = get_gray_frame(cap, scaling_factor)\n",
    "cur_frame = get_gray_frame(cap, scaling_factor)\n",
    "next_frame = get_gray_frame(cap, scaling_factor)"
   ]
  },
  {
   "cell_type": "code",
   "execution_count": 5,
   "metadata": {},
   "outputs": [
    {
     "data": {
      "image/png": "[encoded data removed]",
      "text/plain": [
       "<IPython.core.display.Image object>"
      ]
     },
     "metadata": {},
     "output_type": "display_data"
    }
   ],
   "source": [
    "try:\n",
    "    while True:\n",
    "        diff = frame_diff(prev_frame, cur_frame, next_frame)\n",
    "        show_image(diff)\n",
    "        import time\n",
    "        time.sleep(0.03)\n",
    "        prev_frame = cur_frame\n",
    "        cur_frame = next_frame\n",
    "        next_frame = get_gray_frame(cap, scaling_factor)\n",
    "        if next_frame is None: break\n",
    "            \n",
    "except KeyboardInterrupt:\n",
    "    print('Interrupted')\n",
    "    \n",
    "cap.release()"
   ]
  }
 ],
 "metadata": {
  "kernelspec": {
   "display_name": "Python 3",
   "language": "python",
   "name": "python3"
  },
  "language_info": {
   "codemirror_mode": {
    "name": "ipython",
    "version": 3
   },
   "file_extension": ".py",
   "mimetype": "text/x-python",
   "name": "python",
   "nbconvert_exporter": "python",
   "pygments_lexer": "ipython3",
   "version": "3.6.8"
  }
 },
 "nbformat": 4,
 "nbformat_minor": 2
}
