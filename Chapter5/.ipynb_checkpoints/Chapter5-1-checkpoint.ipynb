{
 "cells": [
  {
   "cell_type": "code",
   "execution_count": 1,
   "metadata": {},
   "outputs": [],
   "source": [
    "from sklearn.datasets import samples_generator\n",
    "from sklearn.feature_selection import SelectKBest, f_regression\n",
    "from sklearn.pipeline import Pipeline\n",
    "from sklearn.ensemble import ExtraTreesClassifier"
   ]
  },
  {
   "cell_type": "code",
   "execution_count": 2,
   "metadata": {},
   "outputs": [
    {
     "name": "stdout",
     "output_type": "stream",
     "text": [
      "[[ 1.01856035 -0.1850947   0.33953529 ... -0.89722827  2.43356744\n",
      "  -0.69119524]\n",
      " [-0.27783108  0.99897481  0.53479038 ...  0.22153721  1.2023667\n",
      "   0.30568521]\n",
      " [ 0.03110801  1.14511831  0.28923459 ... -1.05191555  0.09786165\n",
      "  -0.65803802]\n",
      " ...\n",
      " [-0.26170774  0.83418331  0.9540871  ...  0.43996139  1.29141862\n",
      "   0.58900801]\n",
      " [ 0.09728851 -2.19374974  0.82561751 ...  0.19169576  0.38328131\n",
      "   1.45836114]\n",
      " [-0.11176114 -0.44320815 -0.8666994  ...  1.00486657  0.38439339\n",
      "   1.38943378]]\n",
      "[0 2 2 0 2 0 2 1 0 1 1 2 1 0 2 2 1 0 0 1 0 1 0 1 2 2 0 0 1 0 1 2 1 0 2 2 1\n",
      " 1 2 2 2 0 0 0 2 1 1 2 1 0 1 2 2 1 2 0 2 2 0 2 2 0 1 0 2 1 1 1 1 2 0 1 0 2\n",
      " 0 0 1 2 2 0 0 1 0 2 2 0 0 0 2 2 2 1 2 0 2 0 2 0 0 0 1 1 1 1 2 2 2 2 0 1 1\n",
      " 0 2 1 1 0 1 1 1 1 0 0 0 1 2 0 0 0 2 1 2 0 0 1 0 1 1 0 1 1 1 1 2 2 0 1 1 0\n",
      " 2 2]\n"
     ]
    }
   ],
   "source": [
    "X, y = samples_generator.make_classification(n_samples=150,\n",
    "        n_features=25, n_classes=3, n_informative=6,\n",
    "        n_redundant=0, random_state=7)\n",
    "\n",
    "print(X)\n",
    "print(y)"
   ]
  },
  {
   "cell_type": "code",
   "execution_count": 3,
   "metadata": {},
   "outputs": [
    {
     "name": "stdout",
     "output_type": "stream",
     "text": [
      "Predicted output:\n",
      " [1 2 2 0 2 0 2 1 0 1 1 2 0 0 2 2 1 0 0 1 0 2 1 1 2 2 0 0 1 2 1 2 1 0 2 2 1\n",
      " 1 2 2 2 0 1 2 2 1 1 2 1 0 1 2 2 2 2 0 2 2 0 2 2 0 1 0 2 1 0 1 1 2 0 1 0 2\n",
      " 0 0 1 2 2 0 0 1 2 2 2 0 0 0 2 2 2 1 2 0 2 1 2 1 0 0 1 1 1 1 2 1 0 2 0 1 1\n",
      " 0 2 1 1 0 1 1 1 1 0 0 0 1 2 0 0 0 2 1 2 0 0 1 0 1 1 0 1 1 1 2 2 2 1 1 2 0\n",
      " 2 2]\n",
      "\n",
      "Score: 0.8866666666666667\n",
      "\n",
      "Indices of selected features: 4,7,8,12,14,17,22\n"
     ]
    }
   ],
   "source": [
    "k_best_selector = SelectKBest(f_regression, k=9)\n",
    "classifier = ExtraTreesClassifier(n_estimators=60, max_depth=4)\n",
    "\n",
    "processor_pipeline = Pipeline([('selector', k_best_selector),\n",
    "                                 ('erf', classifier)])\n",
    "\n",
    "processor_pipeline.set_params(selector__k=7, erf__n_estimators=30)\n",
    "\n",
    "processor_pipeline.fit(X, y)\n",
    "\n",
    "output = processor_pipeline.predict(X)\n",
    "print(\"Predicted output:\\n\", output)\n",
    "\n",
    "print(\"\\nScore:\", processor_pipeline.score(X, y))\n",
    "\n",
    "# 特徴選択ブロックの状態を得る\n",
    "status = processor_pipeline.named_steps['selector'].get_support()\n",
    "\n",
    "# 選択された特徴の番号を取得して表示する\n",
    "selected = [i for i, x in enumerate(status) if x]\n",
    "print(\"\\nIndices of selected features:\", ','.join([str(x) for x in selected]))\n"
   ]
  },
  {
   "cell_type": "code",
   "execution_count": null,
   "metadata": {},
   "outputs": [],
   "source": []
  }
 ],
 "metadata": {
  "kernelspec": {
   "display_name": "Python 3",
   "language": "python",
   "name": "python3"
  },
  "language_info": {
   "codemirror_mode": {
    "name": "ipython",
    "version": 3
   },
   "file_extension": ".py",
   "mimetype": "text/x-python",
   "name": "python",
   "nbconvert_exporter": "python",
   "pygments_lexer": "ipython3",
   "version": "3.7.2"
  }
 },
 "nbformat": 4,
 "nbformat_minor": 2
}
