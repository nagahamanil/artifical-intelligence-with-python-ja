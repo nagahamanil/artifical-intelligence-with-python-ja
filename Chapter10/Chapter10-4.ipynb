{
 "cells": [
  {
   "cell_type": "code",
   "execution_count": 1,
   "metadata": {},
   "outputs": [
    {
     "name": "stdout",
     "output_type": "stream",
     "text": [
      "              INPUT WORD         NOUN LEMMATIZER         VERB LEMMATIZER\n",
      "===========================================================================\n",
      "                 writing                 writing                   write\n",
      "                  calves                    calf                   calve\n",
      "                      be                      be                      be\n",
      "                 branded                 branded                   brand\n",
      "                   horse                   horse                   horse\n",
      "               randomize               randomize               randomize\n",
      "                possibly                possibly                possibly\n",
      "               provision               provision               provision\n",
      "                hospital                hospital                hospital\n",
      "                    kept                    kept                    keep\n",
      "                scratchy                scratchy                scratchy\n",
      "                    code                    code                    code\n"
     ]
    }
   ],
   "source": [
    "# p.233 10.4 レンマ化による単語の基本形変換\n",
    "from nltk.stem import WordNetLemmatizer\n",
    "\n",
    "input_words = ['writing', 'calves', 'be', 'branded',\n",
    "              'horse', 'randomize', 'possibly', 'provision',\n",
    "              'hospital', 'kept', 'scratchy', 'code']\n",
    "\n",
    "lemmatizer = WordNetLemmatizer()\n",
    "\n",
    "lemmatizer_names = ['INPUT WORD', 'NOUN LEMMATIZER', 'VERB LEMMATIZER']\n",
    "fmt = '{:>24}' * len(lemmatizer_names)\n",
    "print(fmt.format(*lemmatizer_names))\n",
    "print('=' * 75)\n",
    "\n",
    "for word in input_words:\n",
    "    output = [word, lemmatizer.lemmatize(word, pos='n'),\n",
    "             lemmatizer.lemmatize(word, pos='v')]\n",
    "    print(fmt.format(*output))"
   ]
  }
 ],
 "metadata": {
  "kernelspec": {
   "display_name": "Python 3",
   "language": "python",
   "name": "python3"
  },
  "language_info": {
   "codemirror_mode": {
    "name": "ipython",
    "version": 3
   },
   "file_extension": ".py",
   "mimetype": "text/x-python",
   "name": "python",
   "nbconvert_exporter": "python",
   "pygments_lexer": "ipython3",
   "version": "3.7.2"
  }
 },
 "nbformat": 4,
 "nbformat_minor": 2
}
