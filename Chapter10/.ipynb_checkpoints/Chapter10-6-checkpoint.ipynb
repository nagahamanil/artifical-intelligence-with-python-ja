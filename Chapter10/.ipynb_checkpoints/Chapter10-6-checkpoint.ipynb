{
 "cells": [
  {
   "cell_type": "code",
   "execution_count": 1,
   "metadata": {},
   "outputs": [],
   "source": [
    "# p.236 10.6 BoWモデルを用いた文書の単語行列抽出\n",
    "from sklearn.feature_extraction.text import CountVectorizer\n",
    "from nltk.corpus import brown\n",
    "\n",
    "def chunker(input_data, N):\n",
    "    input_words = input_data.split(' ')\n",
    "    output = []\n",
    "    while len(input_words) > N:\n",
    "        output.append(' '.join(input_words[:N]))\n",
    "        input_words = input_words[N:]\n",
    "    output.append(' '.join(input_words))\n",
    "    return output"
   ]
  },
  {
   "cell_type": "code",
   "execution_count": 2,
   "metadata": {},
   "outputs": [
    {
     "name": "stdout",
     "output_type": "stream",
     "text": [
      "Vocabulary:\n",
      " ['and', 'are', 'be', 'by', 'county', 'for', 'in', 'is', 'it', 'of', 'on', 'one', 'said', 'state', 'that', 'the', 'to', 'two', 'was', 'which', 'with']\n"
     ]
    }
   ],
   "source": [
    "input_data = ' '.join(brown.words()[:5400])\n",
    "\n",
    "chunk_size = 800\n",
    "\n",
    "text_chunks = chunker(input_data, chunk_size)\n",
    "\n",
    "#print(text_chunks)\n",
    "\n",
    "count_vectorizer = CountVectorizer(min_df=7, max_df=20)\n",
    "document_term_matrix = count_vectorizer.fit_transform(text_chunks)\n",
    "\n",
    "vocabulary = count_vectorizer.get_feature_names()\n",
    "print(\"Vocabulary:\\n\", vocabulary)"
   ]
  },
  {
   "cell_type": "code",
   "execution_count": 3,
   "metadata": {},
   "outputs": [
    {
     "name": "stdout",
     "output_type": "stream",
     "text": [
      "Document term matrix:\n",
      "Documentand are be by county for in is it of on one said state that the to two was which with \n",
      " Chunk-1 23   2  6  3      6   7 15  2  8 31  4   1   12     3   13  71 11   2   5     7    2 \n",
      " Chunk-2  9   2  8  4      2  13 11  7  6 20  3   3    5     7    8  51 26   1   6     4    2 \n",
      " Chunk-3  9   1  7  4      7   4 15  3  8 20  5   1    7     2    9  43 20   1   7     5    3 \n",
      " Chunk-4 11   1  7  5      3  10 11  4  9 30 10   2    7     6    2  51 26   1   7     4    1 \n",
      " Chunk-5  9   2  6 14      1   7 13  5  3 29  6   2    4     3    7  43 21   1   4     3    2 \n",
      " Chunk-6 17   2  2  3      2   6 14  5  1 35  5   1    3     4    1  52 15   2   7     1    2 \n",
      " Chunk-7 10   1  1  6      2   4 17  2  2 26  2   1    7     1    7  49 11   2   3     1    3 \n"
     ]
    }
   ],
   "source": [
    "print(\"Document term matrix:\")\n",
    "fmt = '{:>8}'\n",
    "\n",
    "for v in vocabulary:\n",
    "    fmt += '{{:>{}}} '.format(len(v))\n",
    "print(fmt.format('Document', *vocabulary))\n",
    "for i, item in enumerate(document_term_matrix.toarray()):\n",
    "    print(fmt.format('Chunk-' + str(i + 1), *item.data))"
   ]
  }
 ],
 "metadata": {
  "kernelspec": {
   "display_name": "Python 3",
   "language": "python",
   "name": "python3"
  },
  "language_info": {
   "codemirror_mode": {
    "name": "ipython",
    "version": 3
   },
   "file_extension": ".py",
   "mimetype": "text/x-python",
   "name": "python",
   "nbconvert_exporter": "python",
   "pygments_lexer": "ipython3",
   "version": "3.7.2"
  }
 },
 "nbformat": 4,
 "nbformat_minor": 2
}
