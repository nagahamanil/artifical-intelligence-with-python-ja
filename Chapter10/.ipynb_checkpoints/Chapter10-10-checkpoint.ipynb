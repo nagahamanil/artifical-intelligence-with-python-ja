{
 "cells": [
  {
   "cell_type": "code",
   "execution_count": 1,
   "metadata": {},
   "outputs": [],
   "source": [
    "# p.248 10.10 LDAを使ったトピックモデル\n",
    "from nltk.tokenize import RegexpTokenizer\n",
    "from nltk.corpus import stopwords\n",
    "from nltk.stem.snowball import SnowballStemmer\n",
    "from gensim import models, corpora"
   ]
  },
  {
   "cell_type": "code",
   "execution_count": 2,
   "metadata": {},
   "outputs": [],
   "source": [
    "def load_data(input_file):\n",
    "    data = []\n",
    "    with open(input_file, 'r') as f:\n",
    "        for line in f.readlines():\n",
    "            data.append(line.strip())\n",
    "    return data"
   ]
  },
  {
   "cell_type": "code",
   "execution_count": 3,
   "metadata": {},
   "outputs": [],
   "source": [
    "def process(input_text):\n",
    "    tokenizer = RegexpTokenizer(r'\\w+')\n",
    "    tokens = tokenizer.tokenize(input_text.lower())\n",
    "    stop_words = stopwords.words('english')\n",
    "    tokens = [x for x in tokens if not x in stop_words]\n",
    "    stemmer = SnowballStemmer('english')\n",
    "    tokens_stemmed = [stemmer.stem(x) for x in tokens]\n",
    "    return tokens_stemmed"
   ]
  },
  {
   "cell_type": "code",
   "execution_count": 4,
   "metadata": {},
   "outputs": [],
   "source": [
    "data = load_data('data.txt')\n",
    "tokens = [process(x) for x in data]\n",
    "\n",
    "dict_tokens = corpora.Dictionary(tokens)\n",
    "doc_term_mat = [dict_tokens.doc2bow(token) for token in tokens]\n",
    "\n",
    "num_topics = 2\n",
    "ldamodel = models.ldamodel.LdaModel(doc_term_mat,\n",
    "                                   num_topics=num_topics, id2word=dict_tokens, passes=25)"
   ]
  },
  {
   "cell_type": "code",
   "execution_count": 5,
   "metadata": {},
   "outputs": [
    {
     "name": "stdout",
     "output_type": "stream",
     "text": [
      "Top 5 contributing words to each topic:\n",
      "\n",
      "Topic 0\n",
      "empir ==> 3.98%\n",
      "mathemat ==> 2.87%\n",
      "expand ==> 2.84%\n",
      "call ==> 2.84%\n",
      "structur ==> 1.71%\n",
      "\n",
      "Topic 1\n",
      "cultur ==> 3.04%\n",
      "europ ==> 3.04%\n",
      "formul ==> 1.85%\n",
      "peopl ==> 1.84%\n",
      "histor ==> 1.84%\n"
     ]
    }
   ],
   "source": [
    "num_words = 5\n",
    "print('Top ' + str(num_words) + ' contributing words to each topic:')\n",
    "for n, values in ldamodel.show_topics(num_topics = num_topics,\n",
    "                                     num_words = num_words, formatted=False):\n",
    "    print('\\nTopic', n)\n",
    "    for word, weight in values:\n",
    "        print(word, '==>', str(round(float(weight) * 100, 2)) + '%')"
   ]
  }
 ],
 "metadata": {
  "kernelspec": {
   "display_name": "Python 3",
   "language": "python",
   "name": "python3"
  },
  "language_info": {
   "codemirror_mode": {
    "name": "ipython",
    "version": 3
   },
   "file_extension": ".py",
   "mimetype": "text/x-python",
   "name": "python",
   "nbconvert_exporter": "python",
   "pygments_lexer": "ipython3",
   "version": "3.7.2"
  }
 },
 "nbformat": 4,
 "nbformat_minor": 2
}
