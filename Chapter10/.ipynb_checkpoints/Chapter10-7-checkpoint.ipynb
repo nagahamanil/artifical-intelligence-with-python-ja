{
 "cells": [
  {
   "cell_type": "code",
   "execution_count": 1,
   "metadata": {},
   "outputs": [],
   "source": [
    "# p.239 10.7 カテゴリ推定器\n",
    "from sklearn.datasets import fetch_20newsgroups\n",
    "from sklearn.naive_bayes import MultinomialNB\n",
    "from sklearn.feature_extraction.text import TfidfTransformer\n",
    "from sklearn.feature_extraction.text import CountVectorizer"
   ]
  },
  {
   "cell_type": "code",
   "execution_count": 2,
   "metadata": {},
   "outputs": [
    {
     "name": "stdout",
     "output_type": "stream",
     "text": [
      "Dimensions of training data: (2844, 40321)\n"
     ]
    }
   ],
   "source": [
    "category_map = {'talk.politics.misc': 'Politics',\n",
    "               'rec.autos': 'Autos', 'rec.sport.hockey': 'Hockey',\n",
    "               'sci.electronics': 'Electronics', 'sci.med': 'Medicine'}\n",
    "\n",
    "training_data = fetch_20newsgroups(subset='train',\n",
    "    categories=category_map.keys(), shuffle=True, random_state=5)\n",
    "\n",
    "count_vectorizer = CountVectorizer()\n",
    "train_tc = count_vectorizer.fit_transform(training_data.data)\n",
    "print(\"Dimensions of training data:\", train_tc.shape)"
   ]
  },
  {
   "cell_type": "code",
   "execution_count": 3,
   "metadata": {},
   "outputs": [],
   "source": [
    "tfidf = TfidfTransformer()\n",
    "train_tfidf = tfidf.fit_transform(train_tc)"
   ]
  },
  {
   "cell_type": "code",
   "execution_count": 4,
   "metadata": {},
   "outputs": [],
   "source": [
    "classifier = MultinomialNB().fit(train_tfidf, training_data.target)"
   ]
  },
  {
   "cell_type": "code",
   "execution_count": 5,
   "metadata": {},
   "outputs": [],
   "source": [
    "input_data = [\n",
    "    'You need to be careful with cars when you are driving on slippery roads',\n",
    "    'A lot of devices can be operated wirelessly',\n",
    "    'Players need to be careful when they are close to goal posts',\n",
    "    'Political debates help us understand the perspectives of both sides'\n",
    "]"
   ]
  },
  {
   "cell_type": "code",
   "execution_count": 6,
   "metadata": {},
   "outputs": [],
   "source": [
    "input_tc = count_vectorizer.transform(input_data)\n",
    "input_tfidf = tfidf.transform(input_tc)\n",
    "predictions = classifier.predict(input_tfidf)"
   ]
  },
  {
   "cell_type": "code",
   "execution_count": 7,
   "metadata": {},
   "outputs": [
    {
     "name": "stdout",
     "output_type": "stream",
     "text": [
      "Input: You need to be careful with cars when you are driving on slippery roads \n",
      "Predicted category: Autos\n",
      "Input: A lot of devices can be operated wirelessly \n",
      "Predicted category: Electronics\n",
      "Input: Players need to be careful when they are close to goal posts \n",
      "Predicted category: Hockey\n",
      "Input: Political debates help us understand the perspectives of both sides \n",
      "Predicted category: Politics\n"
     ]
    }
   ],
   "source": [
    "for sent, category in zip(input_data, predictions):\n",
    "    print('Input:', sent, '\\nPredicted category:',\n",
    "         category_map[training_data.target_names[category]])"
   ]
  }
 ],
 "metadata": {
  "kernelspec": {
   "display_name": "Python 3",
   "language": "python",
   "name": "python3"
  },
  "language_info": {
   "codemirror_mode": {
    "name": "ipython",
    "version": 3
   },
   "file_extension": ".py",
   "mimetype": "text/x-python",
   "name": "python",
   "nbconvert_exporter": "python",
   "pygments_lexer": "ipython3",
   "version": "3.7.2"
  }
 },
 "nbformat": 4,
 "nbformat_minor": 2
}
