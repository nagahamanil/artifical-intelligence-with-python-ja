{
 "cells": [
  {
   "cell_type": "code",
   "execution_count": 1,
   "metadata": {},
   "outputs": [],
   "source": [
    "import numpy as np\n",
    "from sklearn import preprocessing\n",
    "\n",
    "input_data = np.array([[ 5.1, -2.9,  3.3],\n",
    "                       [-1.2,  7.8, -6.1],\n",
    "                       [ 3.9,  0.4,  2.1],\n",
    "                       [ 7.3, -9.9, -4.5]])"
   ]
  },
  {
   "cell_type": "code",
   "execution_count": 2,
   "metadata": {},
   "outputs": [
    {
     "name": "stdout",
     "output_type": "stream",
     "text": [
      "Binarized data:\n",
      " [[1. 0. 1.]\n",
      " [0. 1. 0.]\n",
      " [1. 0. 0.]\n",
      " [1. 0. 0.]]\n"
     ]
    }
   ],
   "source": [
    "data_binarized = preprocessing.Binarizer(threshold=2.1).transform(input_data)\n",
    "print(\"Binarized data:\\n\", data_binarized)"
   ]
  },
  {
   "cell_type": "code",
   "execution_count": 3,
   "metadata": {},
   "outputs": [
    {
     "name": "stdout",
     "output_type": "stream",
     "text": [
      "BEFORE:\n",
      "Mean = [ 3.775 -1.15  -1.3  ]\n",
      "Std deviation = [3.12039661 6.36651396 4.0620192 ]\n"
     ]
    }
   ],
   "source": [
    "print(\"BEFORE:\")\n",
    "print(\"Mean =\", input_data.mean(axis=0))\n",
    "print(\"Std deviation =\", input_data.std(axis=0))"
   ]
  },
  {
   "cell_type": "code",
   "execution_count": 4,
   "metadata": {},
   "outputs": [
    {
     "name": "stdout",
     "output_type": "stream",
     "text": [
      "AFTER:\n",
      "Mean = [1.11022302e-16 0.00000000e+00 2.77555756e-17]\n",
      "Std devistion = [1. 1. 1.]\n"
     ]
    }
   ],
   "source": [
    "data_scaled = preprocessing.scale(input_data)\n",
    "print(\"AFTER:\")\n",
    "print(\"Mean =\", data_scaled.mean(axis=0))\n",
    "print(\"Std devistion =\", data_scaled.std(axis=0))"
   ]
  },
  {
   "cell_type": "code",
   "execution_count": 5,
   "metadata": {},
   "outputs": [
    {
     "name": "stdout",
     "output_type": "stream",
     "text": [
      "[[ 5.1 -2.9  3.3]\n",
      " [-1.2  7.8 -6.1]\n",
      " [ 3.9  0.4  2.1]\n",
      " [ 7.3 -9.9 -4.5]]\n",
      "Min max scaled data:\n",
      " [[0.74117647 0.39548023 1.        ]\n",
      " [0.         1.         0.        ]\n",
      " [0.6        0.5819209  0.87234043]\n",
      " [1.         0.         0.17021277]]\n"
     ]
    }
   ],
   "source": [
    "data_scaler_minmax = preprocessing.MinMaxScaler(feature_range=(0, 1))\n",
    "data_scaled_minmax = data_scaler_minmax.fit_transform(input_data)\n",
    "print(input_data)\n",
    "print(\"Min max scaled data:\\n\", data_scaled_minmax)"
   ]
  },
  {
   "cell_type": "code",
   "execution_count": 6,
   "metadata": {},
   "outputs": [
    {
     "name": "stdout",
     "output_type": "stream",
     "text": [
      "L1 normalized data:\n",
      " [[ 0.45132743 -0.25663717  0.2920354 ]\n",
      " [-0.0794702   0.51655629 -0.40397351]\n",
      " [ 0.609375    0.0625      0.328125  ]\n",
      " [ 0.33640553 -0.4562212  -0.20737327]]\n",
      "L2 normalized data:\n",
      " [[ 0.75765788 -0.43082507  0.49024922]\n",
      " [-0.12030718  0.78199664 -0.61156148]\n",
      " [ 0.87690281  0.08993875  0.47217844]\n",
      " [ 0.55734935 -0.75585734 -0.34357152]]\n"
     ]
    }
   ],
   "source": [
    "# データを正規化する\n",
    "data_normalized_l1 = preprocessing.normalize(input_data, norm='l1')\n",
    "data_normalized_l2 = preprocessing.normalize(input_data, norm='l2')\n",
    "print(\"L1 normalized data:\\n\", data_normalized_l1)\n",
    "print(\"L2 normalized data:\\n\", data_normalized_l2)"
   ]
  },
  {
   "cell_type": "code",
   "execution_count": 7,
   "metadata": {},
   "outputs": [
    {
     "name": "stdout",
     "output_type": "stream",
     "text": [
      "Label mapping:\n",
      "black --> 0\n",
      "green --> 1\n",
      "red --> 2\n",
      "white --> 3\n",
      "yellow --> 4\n"
     ]
    }
   ],
   "source": [
    "import numpy as np\n",
    "from sklearn import preprocessing\n",
    "\n",
    "input_labels = ['red', 'black', 'red', 'green', 'black', 'yellow', 'white']\n",
    "\n",
    "encoder = preprocessing.LabelEncoder()\n",
    "encoder.fit(input_labels)\n",
    "\n",
    "print(\"Label mapping:\")\n",
    "\n",
    "for i, item in enumerate(encoder.classes_):\n",
    "    print(item, '-->', i)"
   ]
  },
  {
   "cell_type": "code",
   "execution_count": 8,
   "metadata": {},
   "outputs": [
    {
     "name": "stdout",
     "output_type": "stream",
     "text": [
      "Labels = ['green', 'red', 'black']\n",
      "Encoded values = [1, 2, 0]\n"
     ]
    }
   ],
   "source": [
    "test_labels = ['green', 'red', 'black']\n",
    "encoded_values = encoder.transform(test_labels)\n",
    "print(\"Labels =\", test_labels)\n",
    "print(\"Encoded values =\", list(encoded_values))"
   ]
  },
  {
   "cell_type": "code",
   "execution_count": 9,
   "metadata": {},
   "outputs": [
    {
     "name": "stdout",
     "output_type": "stream",
     "text": [
      "Encoded values = [3, 0, 4, 1]\n",
      "Decoded valued = ['white' 'black' 'yellow' 'green']\n"
     ]
    }
   ],
   "source": [
    "encoded_values = [3, 0, 4, 1]\n",
    "decoded_list = encoder.inverse_transform(encoded_values)\n",
    "print(\"Encoded values =\", encoded_values)\n",
    "print(\"Decoded valued =\", decoded_list)"
   ]
  },
  {
   "cell_type": "code",
   "execution_count": 10,
   "metadata": {},
   "outputs": [
    {
     "data": {
      "text/plain": [
       "LogisticRegression(C=1, class_weight=None, dual=False, fit_intercept=True,\n",
       "          intercept_scaling=1, max_iter=100, multi_class='auto',\n",
       "          n_jobs=None, penalty='l2', random_state=None, solver='liblinear',\n",
       "          tol=0.0001, verbose=0, warm_start=False)"
      ]
     },
     "execution_count": 10,
     "metadata": {},
     "output_type": "execute_result"
    }
   ],
   "source": [
    "import numpy as np\n",
    "from sklearn import linear_model\n",
    "\n",
    "X = np.array([[3.1, 7.2], [4, 6.7], [2.9, 8], [5.1, 4.5], [6, 5],\n",
    "             [5.6, 5], [3.3, 0.4], [3.9, 0.9], [2.8, 1], [0.5, 3.4],\n",
    "             [1, 4], [0.6, 4.9]])\n",
    "y = np.array([0, 0, 0, 1, 1, 1, 2, 2, 2, 3, 3, 3])\n",
    "\n",
    "classifier = linear_model.LogisticRegression(solver='liblinear',\n",
    "                                             C=1, multi_class='auto')\n",
    "classifier.fit(X, y)"
   ]
  },
  {
   "cell_type": "code",
   "execution_count": 11,
   "metadata": {},
   "outputs": [],
   "source": [
    "import numpy as np\n",
    "import matplotlib.pyplot as plt\n",
    "%matplotlib inline\n",
    "\n",
    "def visualize_classifier(classifier, X, y, title=''):\n",
    "    min_x, max_x = X[:, 0].min() - 1.0, X[:, 0].max() + 1.0\n",
    "    min_y, max_y = X[:, 1].min() - 1.0, X[:, 1].max() + 1.0\n",
    "    \n",
    "    mesh_step_size = 0.01\n",
    "\n",
    "    x_vals, y_vals = np.meshgrid(np.arange(min_x, max_x, mesh_step_size),\n",
    "                                 np.arange(min_y, max_y, mesh_step_size))\n",
    "\n",
    "    output = classifier.predict(np.c_[x_vals.ravel(), y_vals.ravel()])\n",
    "    output = output.reshape(x_vals.shape)\n",
    "    \n",
    "    plt.figure()\n",
    "    plt.title(title)\n",
    "    plt.pcolormesh(x_vals, y_vals, output, cmap=plt.cm.gray)\n",
    "    plt.scatter(X[:, 0], X[:, 1], c=y, s=75, edgecolors='black', linewidth=1,\n",
    "                cmap=plt.cm.Paired)\n",
    "    \n",
    "    plt.xlim(x_vals.min(), x_vals.max())\n",
    "    plt.ylim(y_vals.min(), y_vals.max())\n",
    "    \n",
    "    plt.xticks((np.arange(int(min_x), int(max_x), 1.0)))\n",
    "    plt.yticks((np.arange(int(min_y), int(max_y), 1.0)))\n",
    "    \n",
    "    plt.show()"
   ]
  },
  {
   "cell_type": "code",
   "execution_count": 12,
   "metadata": {},
   "outputs": [
    {
     "data": {
      "image/png": "[encoded data removed]",
      "text/plain": [
       "<Figure size 432x288 with 1 Axes>"
      ]
     },
     "metadata": {
      "needs_background": "light"
     },
     "output_type": "display_data"
    }
   ],
   "source": [
    "visualize_classifier(classifier, X, y)"
   ]
  },
  {
   "cell_type": "code",
   "execution_count": 13,
   "metadata": {},
   "outputs": [
    {
     "data": {
      "image/png": "[encoded data removed]",
      "text/plain": [
       "<Figure size 432x288 with 1 Axes>"
      ]
     },
     "metadata": {
      "needs_background": "light"
     },
     "output_type": "display_data"
    }
   ],
   "source": [
    "classifier100 = linear_model.LogisticRegression(solver='liblinear', C=100,\n",
    "                                             multi_class='auto')\n",
    "classifier100.fit(X, y)\n",
    "\n",
    "visualize_classifier(classifier100, X, y)"
   ]
  },
  {
   "cell_type": "code",
   "execution_count": 14,
   "metadata": {},
   "outputs": [],
   "source": [
    "import numpy as np\n",
    "from sklearn.naive_bayes import GaussianNB\n",
    "\n",
    "input_file = 'data_multivar_nb.txt'"
   ]
  },
  {
   "cell_type": "code",
   "execution_count": 15,
   "metadata": {},
   "outputs": [],
   "source": [
    "data = np.loadtxt(input_file, delimiter=',')\n",
    "X, y = data[:, :-1], data[:, -1]\n",
    "#print(X)\n",
    "#print(y)"
   ]
  },
  {
   "cell_type": "code",
   "execution_count": 16,
   "metadata": {},
   "outputs": [
    {
     "name": "stdout",
     "output_type": "stream",
     "text": [
      "[0. 1. 2. 3. 0. 1. 2. 3. 0. 1. 2. 3. 0. 1. 2. 3. 0. 1. 2. 3. 0. 1. 2. 3.\n",
      " 0. 1. 2. 3. 0. 1. 2. 3. 0. 1. 2. 3. 0. 1. 2. 3. 0. 1. 2. 3. 0. 1. 2. 3.\n",
      " 0. 1. 2. 3. 0. 1. 2. 3. 0. 1. 2. 3. 0. 1. 2. 3. 0. 1. 2. 3. 0. 1. 2. 3.\n",
      " 0. 1. 2. 3. 0. 1. 3. 3. 0. 1. 2. 3. 0. 1. 2. 3. 0. 1. 2. 3. 0. 1. 2. 3.\n",
      " 0. 1. 2. 3. 0. 1. 2. 3. 0. 1. 2. 3. 0. 1. 2. 3. 0. 1. 2. 3. 0. 1. 2. 3.\n",
      " 0. 1. 2. 3. 0. 1. 2. 3. 0. 1. 2. 3. 0. 1. 2. 3. 0. 1. 2. 3. 0. 1. 2. 3.\n",
      " 0. 1. 2. 3. 0. 1. 2. 3. 0. 1. 2. 3. 0. 1. 2. 3. 0. 1. 2. 3. 0. 1. 2. 3.\n",
      " 0. 1. 2. 3. 0. 1. 2. 3. 0. 1. 2. 3. 0. 1. 2. 3. 0. 1. 2. 3. 0. 1. 2. 3.\n",
      " 0. 1. 2. 3. 0. 1. 2. 3. 0. 1. 2. 3. 0. 1. 2. 3. 0. 1. 2. 3. 0. 1. 2. 3.\n",
      " 0. 1. 2. 3. 0. 1. 2. 3. 0. 1. 2. 3. 0. 1. 2. 3. 0. 1. 2. 3. 0. 1. 2. 3.\n",
      " 0. 1. 2. 3. 0. 1. 2. 3. 0. 1. 2. 3. 0. 1. 2. 3. 0. 1. 2. 3. 0. 1. 2. 3.\n",
      " 0. 1. 2. 3. 0. 1. 2. 3. 0. 1. 2. 3. 0. 1. 2. 3. 0. 1. 2. 3. 0. 1. 2. 3.\n",
      " 0. 1. 2. 3. 0. 1. 2. 3. 0. 1. 2. 3. 0. 1. 2. 3. 0. 1. 2. 3. 0. 1. 2. 3.\n",
      " 0. 1. 2. 3. 0. 1. 2. 3. 0. 1. 2. 3. 0. 1. 2. 3. 0. 1. 2. 3. 0. 1. 2. 3.\n",
      " 0. 1. 2. 3. 0. 1. 2. 3. 0. 1. 2. 3. 0. 1. 2. 3. 0. 1. 2. 3. 0. 1. 2. 3.\n",
      " 0. 1. 2. 3. 0. 1. 2. 3. 0. 1. 2. 3. 0. 1. 2. 3. 0. 1. 2. 3. 0. 1. 2. 3.\n",
      " 0. 1. 2. 3. 0. 1. 2. 3. 0. 1. 2. 3. 0. 1. 2. 3.]\n"
     ]
    }
   ],
   "source": [
    "classifier = GaussianNB()\n",
    "classifier.fit(X, y)\n",
    "\n",
    "y_pred = classifier.predict(X)\n",
    "print(y_pred)"
   ]
  },
  {
   "cell_type": "code",
   "execution_count": 17,
   "metadata": {},
   "outputs": [
    {
     "name": "stdout",
     "output_type": "stream",
     "text": [
      "Accuracy of Naive Bayes classifier = 99.75 %\n"
     ]
    },
    {
     "data": {
      "image/png": "[encoded data removed]",
      "text/plain": [
       "<Figure size 432x288 with 1 Axes>"
      ]
     },
     "metadata": {
      "needs_background": "light"
     },
     "output_type": "display_data"
    }
   ],
   "source": [
    "accuracy = 100.0 * (y == y_pred).sum() / X.shape[0]\n",
    "print(\"Accuracy of Naive Bayes classifier =\", round(accuracy, 2), \"%\")\n",
    "\n",
    "visualize_classifier(classifier, X, y)"
   ]
  },
  {
   "cell_type": "code",
   "execution_count": 18,
   "metadata": {},
   "outputs": [],
   "source": [
    "from sklearn import model_selection\n",
    "\n",
    "X_train, X_test, y_train, y_test = model_selection.train_test_split(X, y,\n",
    "                                                                   test_size=0.2,\n",
    "                                                                   random_state=3)\n",
    "classifier_new = GaussianNB()\n",
    "classifier_new.fit(X_train, y_train)\n",
    "y_test_pred = classifier_new.predict(X_test)"
   ]
  },
  {
   "cell_type": "code",
   "execution_count": 19,
   "metadata": {},
   "outputs": [
    {
     "name": "stdout",
     "output_type": "stream",
     "text": [
      "Accuracy of the new classifier = 100.0 %\n"
     ]
    },
    {
     "data": {
      "image/png": "[encoded data removed]",
      "text/plain": [
       "<Figure size 432x288 with 1 Axes>"
      ]
     },
     "metadata": {
      "needs_background": "light"
     },
     "output_type": "display_data"
    }
   ],
   "source": [
    "accuracy = 100 * (y_test == y_test_pred).sum() / X_test.shape[0]\n",
    "print(\"Accuracy of the new classifier =\", round(accuracy, 2), \"%\")\n",
    "\n",
    "visualize_classifier(classifier_new, X_test, y_test)"
   ]
  },
  {
   "cell_type": "code",
   "execution_count": 20,
   "metadata": {},
   "outputs": [
    {
     "name": "stdout",
     "output_type": "stream",
     "text": [
      "Accuracy: 100.0%\n",
      "Precision: 99.76%\n",
      "Recall: 99.75%\n",
      "F1: 99.75%\n"
     ]
    }
   ],
   "source": [
    "num_folds = 3\n",
    "accuracy_values = model_selection.cross_val_score(classifier,\n",
    "                                                 X, y, scoring='accuracy',\n",
    "                                                 cv=num_folds)\n",
    "print(\"Accuracy: \" + str(round(100 * accuracy_values.mean())) + \"%\")\n",
    "\n",
    "precision_values = model_selection.cross_val_score(classifier,\n",
    "                                                  X, y, scoring='precision_weighted',\n",
    "                                                  cv=num_folds)\n",
    "print(\"Precision: \" + str(round(100 * precision_values.mean(), 2)) + \"%\")\n",
    "\n",
    "recall_values = model_selection.cross_val_score(classifier,\n",
    "                                               X, y, scoring='recall_weighted',\n",
    "                                               cv=num_folds)\n",
    "print(\"Recall: \" + str(round(100 * recall_values.mean(), 2)) + \"%\")\n",
    "\n",
    "f1_values = model_selection.cross_val_score(classifier,\n",
    "                                           X, y, scoring='f1_weighted',\n",
    "                                           cv = num_folds)\n",
    "print(\"F1: \" + str(round(100 * f1_values.mean(), 2)) + \"%\")"
   ]
  },
  {
   "cell_type": "code",
   "execution_count": 21,
   "metadata": {},
   "outputs": [
    {
     "name": "stdout",
     "output_type": "stream",
     "text": [
      "[[2 1 0 0 0]\n",
      " [0 1 0 0 0]\n",
      " [0 0 2 0 0]\n",
      " [0 1 0 2 0]\n",
      " [0 0 0 1 1]]\n"
     ]
    }
   ],
   "source": [
    "import numpy as np\n",
    "import matplotlib.pyplot as plt\n",
    "%matplotlib inline\n",
    "from sklearn.metrics import confusion_matrix\n",
    "from sklearn.metrics import classification_report\n",
    "\n",
    "true_labels = [2, 0, 0, 2, 4, 4, 1, 0, 3, 3, 3]\n",
    "pred_labels = [2, 1, 0, 2, 4, 3, 1, 0, 1, 3, 3]\n",
    "\n",
    "confusion_mat = confusion_matrix(true_labels, pred_labels)\n",
    "print(confusion_mat)"
   ]
  },
  {
   "cell_type": "code",
   "execution_count": 22,
   "metadata": {},
   "outputs": [
    {
     "data": {
      "image/png": "[encoded data removed]",
      "text/plain": [
       "<Figure size 432x288 with 2 Axes>"
      ]
     },
     "metadata": {
      "needs_background": "light"
     },
     "output_type": "display_data"
    }
   ],
   "source": [
    "plt.imshow(confusion_mat, interpolation='nearest', cmap=plt.cm.gray)\n",
    "plt.title('Confusion matrix')\n",
    "plt.colorbar()\n",
    "ticks = np.arange(5)\n",
    "plt.xticks(ticks, ticks)\n",
    "plt.yticks(ticks, ticks)\n",
    "plt.ylabel('True labels')\n",
    "plt.ylabel('Predicted labels')\n",
    "plt.show()"
   ]
  },
  {
   "cell_type": "code",
   "execution_count": 23,
   "metadata": {},
   "outputs": [
    {
     "name": "stdout",
     "output_type": "stream",
     "text": [
      "              precision    recall  f1-score   support\n",
      "\n",
      "     Class-0       1.00      0.67      0.80         3\n",
      "     Class-1       0.33      1.00      0.50         1\n",
      "     Class-2       1.00      1.00      1.00         2\n",
      "     Class-3       0.67      0.67      0.67         3\n",
      "     Class-4       1.00      0.50      0.67         2\n",
      "\n",
      "   micro avg       0.73      0.73      0.73        11\n",
      "   macro avg       0.80      0.77      0.73        11\n",
      "weighted avg       0.85      0.73      0.75        11\n",
      "\n"
     ]
    }
   ],
   "source": [
    "targets = ['Class-0', 'Class-1', 'Class-2', 'Class-3', 'Class-4']\n",
    "print(classification_report(true_labels, pred_labels, target_names=targets))"
   ]
  },
  {
   "cell_type": "code",
   "execution_count": 24,
   "metadata": {},
   "outputs": [],
   "source": [
    "# p.43 2.8 support vector machine: SVM\n",
    "import numpy as np\n",
    "import matplotlib.pyplot as plt\n",
    "%matplotlib inline\n",
    "from sklearn import preprocessing\n",
    "from sklearn.svm import LinearSVC\n",
    "from sklearn.multiclass import OneVsOneClassifier\n",
    "from sklearn import model_selection\n",
    "\n",
    "input_file = 'income_data.txt'\n",
    "\n",
    "Xy = []\n",
    "count_class1 = 0\n",
    "count_class2 = 0\n",
    "max_datapoints = 25000"
   ]
  },
  {
   "cell_type": "code",
   "execution_count": 25,
   "metadata": {},
   "outputs": [
    {
     "name": "stdout",
     "output_type": "stream",
     "text": [
      "[['39' 'State-gov' '77516' ... '40' 'United-States' '<=50K']\n",
      " ['50' 'Self-emp-not-inc' '83311' ... '13' 'United-States' '<=50K']\n",
      " ['38' 'Private' '215646' ... '40' 'United-States' '<=50K']\n",
      " ...\n",
      " ['58' 'Private' '151910' ... '40' 'United-States' '<=50K']\n",
      " ['22' 'Private' '201490' ... '20' 'United-States' '<=50K']\n",
      " ['52' 'Self-emp-inc' '287927' ... '40' 'United-States' '>50K']]\n"
     ]
    }
   ],
   "source": [
    "with open(input_file, 'r') as f:\n",
    "    for line in f.readlines():\n",
    "        if count_class1 >= max_datapoints and count_class2 >= max_datapoints:\n",
    "            break\n",
    "            \n",
    "        if '?' in line:\n",
    "            continue\n",
    "            \n",
    "        data = line[:-1].split(', ')\n",
    "        \n",
    "        if data[-1] == '<=50K' and count_class1 < max_datapoints:\n",
    "            Xy.append(data)\n",
    "            count_class1 += 1\n",
    "            \n",
    "        if data[-1] == '>50K' and count_class1 < max_datapoints:\n",
    "            Xy.append(data)\n",
    "            count_class2 += 1\n",
    "            \n",
    "Xy = np.array(Xy)\n",
    "print(Xy)"
   ]
  },
  {
   "cell_type": "code",
   "execution_count": 26,
   "metadata": {},
   "outputs": [
    {
     "name": "stderr",
     "output_type": "stream",
     "text": [
      "/Users/nagahamanil/.pyenv/versions/3.7.2/lib/python3.7/site-packages/sklearn/svm/base.py:931: ConvergenceWarning: Liblinear failed to converge, increase the number of iterations.\n",
      "  \"the number of iterations.\", ConvergenceWarning)\n",
      "/Users/nagahamanil/.pyenv/versions/3.7.2/lib/python3.7/site-packages/sklearn/svm/base.py:931: ConvergenceWarning: Liblinear failed to converge, increase the number of iterations.\n",
      "  \"the number of iterations.\", ConvergenceWarning)\n",
      "/Users/nagahamanil/.pyenv/versions/3.7.2/lib/python3.7/site-packages/sklearn/svm/base.py:931: ConvergenceWarning: Liblinear failed to converge, increase the number of iterations.\n",
      "  \"the number of iterations.\", ConvergenceWarning)\n"
     ]
    },
    {
     "name": "stdout",
     "output_type": "stream",
     "text": [
      "F1 score: 66.82%\n"
     ]
    },
    {
     "name": "stderr",
     "output_type": "stream",
     "text": [
      "/Users/nagahamanil/.pyenv/versions/3.7.2/lib/python3.7/site-packages/sklearn/svm/base.py:931: ConvergenceWarning: Liblinear failed to converge, increase the number of iterations.\n",
      "  \"the number of iterations.\", ConvergenceWarning)\n"
     ]
    }
   ],
   "source": [
    "label_encoder = []\n",
    "Xy_encoded = np.empty(Xy.shape)\n",
    "for i, item in enumerate(Xy[0]):\n",
    "    if item.isdigit():\n",
    "        Xy_encoded[:, i] = Xy[:, i]\n",
    "    else:\n",
    "        encoder = preprocessing.LabelEncoder()\n",
    "        Xy_encoded[:, i] = encoder.fit_transform(Xy[:, i])\n",
    "        label_encoder.append(encoder)\n",
    "        \n",
    "X = Xy_encoded[:, :-1].astype(int)\n",
    "y = Xy_encoded[:, -1].astype(int)\n",
    "\n",
    "X_train, X_test, y_train, y_test = model_selection.train_test_split(X, y,\n",
    "                                                                    test_size=0.2,\n",
    "                                                                    random_state=5)\n",
    "\n",
    "classifier = LinearSVC(random_state=0)\n",
    "classifier.fit(X_train, y_train)\n",
    "y_test_pred = classifier.predict(X_test)\n",
    "\n",
    "f1 = model_selection.cross_val_score(classifier, X, y, scoring='f1_weighted', cv=3)\n",
    "print(\"F1 score: \" + str(round(100 * f1.mean(), 2)) + \"%\")"
   ]
  },
  {
   "cell_type": "code",
   "execution_count": null,
   "metadata": {},
   "outputs": [],
   "source": []
  },
  {
   "cell_type": "code",
   "execution_count": null,
   "metadata": {},
   "outputs": [],
   "source": []
  },
  {
   "cell_type": "code",
   "execution_count": null,
   "metadata": {},
   "outputs": [],
   "source": []
  },
  {
   "cell_type": "code",
   "execution_count": null,
   "metadata": {},
   "outputs": [],
   "source": []
  },
  {
   "cell_type": "code",
   "execution_count": null,
   "metadata": {},
   "outputs": [],
   "source": []
  }
 ],
 "metadata": {
  "kernelspec": {
   "display_name": "Python 3",
   "language": "python",
   "name": "python3"
  },
  "language_info": {
   "codemirror_mode": {
    "name": "ipython",
    "version": 3
   },
   "file_extension": ".py",
   "mimetype": "text/x-python",
   "name": "python",
   "nbconvert_exporter": "python",
   "pygments_lexer": "ipython3",
   "version": "3.7.2"
  }
 },
 "nbformat": 4,
 "nbformat_minor": 2
}
